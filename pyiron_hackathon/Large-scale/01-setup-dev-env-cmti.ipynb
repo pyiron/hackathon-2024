{
 "cells": [
  {
   "cell_type": "code",
   "execution_count": 1,
   "id": "9e04b32d-d2e6-41e5-9f5e-beb07de28690",
   "metadata": {},
   "outputs": [],
   "source": [
    "import sys"
   ]
  },
  {
   "cell_type": "code",
   "execution_count": 2,
   "id": "b9d8c4dc-64eb-488f-bbd9-5591eeeb7b1e",
   "metadata": {},
   "outputs": [],
   "source": [
    "sys.path.append(\"/u/mbruns/projects/hackathon-2024\")"
   ]
  },
  {
   "cell_type": "code",
   "execution_count": 3,
   "id": "56255731-cb0c-43d2-a303-f4420d140477",
   "metadata": {},
   "outputs": [
    {
     "name": "stdout",
     "output_type": "stream",
     "text": [
      "Welcome to the pyironhackathon 2024\n"
     ]
    }
   ],
   "source": [
    "import pyiron_hackathon"
   ]
  },
  {
   "cell_type": "code",
   "execution_count": 4,
   "id": "ea594630-0993-4c4c-88bc-8a80b11d2077",
   "metadata": {},
   "outputs": [
    {
     "data": {
      "text/plain": [
       "'/u/mbruns/projects/hackathon-2024/pyiron_hackathon/__init__.py'"
      ]
     },
     "execution_count": 4,
     "metadata": {},
     "output_type": "execute_result"
    }
   ],
   "source": [
    "pyiron_hackathon.__file__"
   ]
  },
  {
   "cell_type": "markdown",
   "id": "bba69638-b3a7-4b64-9084-a7585c28fabe",
   "metadata": {},
   "source": [
    "Now have a look at \"02-test-custom-kernel.ipynb\""
   ]
  }
 ],
 "metadata": {
  "kernelspec": {
   "display_name": "pyiron/latest (python3.11)",
   "language": "python",
   "name": "python3"
  },
  "language_info": {
   "codemirror_mode": {
    "name": "ipython",
    "version": 3
   },
   "file_extension": ".py",
   "mimetype": "text/x-python",
   "name": "python",
   "nbconvert_exporter": "python",
   "pygments_lexer": "ipython3",
   "version": "3.11.6"
  }
 },
 "nbformat": 4,
 "nbformat_minor": 5
}
