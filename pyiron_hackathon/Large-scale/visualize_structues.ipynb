{
 "cells": [
  {
   "cell_type": "code",
   "execution_count": 9,
   "id": "c064fcfb-168c-49f4-a67a-97a5745dc2a2",
   "metadata": {},
   "outputs": [],
   "source": [
    "import visualize_structures as vs"
   ]
  },
  {
   "cell_type": "code",
   "execution_count": 10,
   "id": "1b74d162-f9f9-4525-a96e-0b06952678f1",
   "metadata": {},
   "outputs": [],
   "source": [
    "Ni_fcc = vs.ase_read('EXAMPLE-STRUCTURE/Ni_meam_GSFE_111_lammps.fcc', format='lammps-data')"
   ]
  },
  {
   "cell_type": "code",
   "execution_count": 11,
   "id": "c3850d52-2fee-4399-9581-94e726ce2215",
   "metadata": {},
   "outputs": [],
   "source": [
    "ase_viewer = vs.ase_view(Ni_fcc)"
   ]
  },
  {
   "cell_type": "code",
   "execution_count": 12,
   "id": "9b301e94-dbb7-4ebc-9f4e-3a9ef42e0bcc",
   "metadata": {},
   "outputs": [
    {
     "data": {
      "application/vnd.jupyter.widget-view+json": {
       "model_id": "62d9607086c24c468c2988d83f60bbc1",
       "version_major": 2,
       "version_minor": 0
      },
      "text/plain": [
       "HBox(children=(NGLWidget(), VBox(children=(Dropdown(description='Show', options=('All', 'X'), value='All'), Dr…"
      ]
     },
     "execution_count": 12,
     "metadata": {},
     "output_type": "execute_result"
    }
   ],
   "source": [
    "ase_viewer.pull()"
   ]
  },
  {
   "cell_type": "code",
   "execution_count": null,
   "id": "218b883d-953b-4b7c-8841-1607e8d5922f",
   "metadata": {},
   "outputs": [],
   "source": []
  }
 ],
 "metadata": {
  "kernelspec": {
   "display_name": "2024-09-02 with ovito",
   "language": "python",
   "name": "hackathon"
  },
  "language_info": {
   "codemirror_mode": {
    "name": "ipython",
    "version": 3
   },
   "file_extension": ".py",
   "mimetype": "text/x-python",
   "name": "python",
   "nbconvert_exporter": "python",
   "pygments_lexer": "ipython3",
   "version": "3.11.6"
  }
 },
 "nbformat": 4,
 "nbformat_minor": 5
}
