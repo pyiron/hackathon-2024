{
 "cells": [
  {
   "cell_type": "code",
   "execution_count": 1,
   "id": "c36c7c19-17b1-45e9-a6c1-05f2e70e3c86",
   "metadata": {},
   "outputs": [
    {
     "name": "stdout",
     "output_type": "stream",
     "text": [
      "Welcome to the pyironhackathon 2024\n"
     ]
    }
   ],
   "source": [
    "import pyiron_hackathon"
   ]
  },
  {
   "cell_type": "code",
   "execution_count": null,
   "id": "14475ca9-3219-4f51-868d-3fcde2844563",
   "metadata": {},
   "outputs": [],
   "source": []
  }
 ],
 "metadata": {
  "kernelspec": {
   "display_name": "pyironhackathon",
   "language": "python",
   "name": "pyironhackathon"
  },
  "language_info": {
   "codemirror_mode": {
    "name": "ipython",
    "version": 3
   },
   "file_extension": ".py",
   "mimetype": "text/x-python",
   "name": "python",
   "nbconvert_exporter": "python",
   "pygments_lexer": "ipython3",
   "version": "3.11.6"
  }
 },
 "nbformat": 4,
 "nbformat_minor": 5
}
