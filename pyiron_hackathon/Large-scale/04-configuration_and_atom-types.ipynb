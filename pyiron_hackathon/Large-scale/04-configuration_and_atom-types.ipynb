{
 "cells": [
  {
   "cell_type": "code",
   "execution_count": 1,
   "id": "7ab13b25-7146-4de1-8b5e-d792c8b12275",
   "metadata": {},
   "outputs": [],
   "source": [
    "from ase.lattice.cubic import FaceCenteredCubic\n",
    "%config IPCompleter.evaluation='unsafe'"
   ]
  },
  {
   "cell_type": "code",
   "execution_count": 2,
   "id": "9340a3ce-95f6-400f-b673-2f03a5408e77",
   "metadata": {},
   "outputs": [],
   "source": [
    "aseAtoms = FaceCenteredCubic(directions = [[1, 1, 2], [-1, 1, 0], [-1, -1, 1]],\n",
    "                                               size=(4, 4, 20),\n",
    "                                               symbol='Ni',\n",
    "                                               pbc=(1,1,0),\n",
    "                                               latticeconstant = 3.52)"
   ]
  },
  {
   "cell_type": "code",
   "execution_count": 3,
   "id": "60eb81bd-b596-4d02-99f8-2368aa134e7b",
   "metadata": {},
   "outputs": [],
   "source": [
    "import numpy as np\n",
    "nAtoms = len(aseAtoms)\n",
    "np.set_printoptions(threshold=nAtoms)\n",
    "max_pos = np.max(aseAtoms.get_positions()[:][:,2])\n",
    "min_pos = np.min(aseAtoms.get_positions()[:][:,2])"
   ]
  },
  {
   "cell_type": "code",
   "execution_count": 4,
   "id": "053b0d5e-473c-4f40-a01d-2e98fe843b63",
   "metadata": {},
   "outputs": [],
   "source": [
    "is_top = aseAtoms.positions[:][:,2] >= max_pos-15.\n",
    "is_center = (aseAtoms.positions[:][:,2] < max_pos-15.) & (aseAtoms.positions[:][:,2] >= min_pos+15.)\n",
    "is_bottom = aseAtoms.positions[:][:,2] < min_pos+15."
   ]
  },
  {
   "cell_type": "code",
   "execution_count": 5,
   "id": "add05819-cfbe-4992-b563-8fbb3bf235d4",
   "metadata": {},
   "outputs": [],
   "source": [
    "aseAtoms.numbers[is_top] = 1\n",
    "aseAtoms.numbers[is_center] = 2\n",
    "aseAtoms.numbers[is_bottom] = 3"
   ]
  },
  {
   "cell_type": "code",
   "execution_count": 7,
   "id": "1e8d96ee-9218-4eb3-9155-b1a82d49472e",
   "metadata": {},
   "outputs": [],
   "source": [
    "aseAtoms.write('input.structure', format='lammps-data')"
   ]
  },
  {
   "cell_type": "code",
   "execution_count": 14,
   "id": "ebcae48d-88e4-456f-9ed2-13dcafc8c2dd",
   "metadata": {},
   "outputs": [
    {
     "data": {
      "application/vnd.jupyter.widget-view+json": {
       "model_id": "ca3f434dc0fb4c9b997c5a5299ac97e5",
       "version_major": 2,
       "version_minor": 0
      },
      "text/plain": []
     },
     "metadata": {},
     "output_type": "display_data"
    }
   ],
   "source": [
    "from pyiron_atomistics import Project"
   ]
  },
  {
   "cell_type": "code",
   "execution_count": 15,
   "id": "0304cd24-9049-4826-8e03-fa74cb98be39",
   "metadata": {},
   "outputs": [],
   "source": [
    "pr = Project('lammps-run')"
   ]
  },
  {
   "cell_type": "code",
   "execution_count": 17,
   "id": "492f6421-bc94-4eae-8192-a29168f22744",
   "metadata": {},
   "outputs": [],
   "source": [
    "job = pr.create_job(job_type=pr.job_type.Lammps, job_name='Ni-largeScale')"
   ]
  },
  {
   "cell_type": "code",
   "execution_count": 19,
   "id": "41118cbc-3ecc-4f3b-8591-eef1417b82ad",
   "metadata": {},
   "outputs": [],
   "source": [
    "job.structure = aseAtoms"
   ]
  },
  {
   "cell_type": "code",
   "execution_count": 24,
   "id": "f6c2278c-a5d4-4943-b904-35c9b992579d",
   "metadata": {},
   "outputs": [
    {
     "data": {
      "text/plain": [
       "[]"
      ]
     },
     "execution_count": 24,
     "metadata": {},
     "output_type": "execute_result"
    }
   ],
   "source": [
    "job.potential_available"
   ]
  },
  {
   "cell_type": "code",
   "execution_count": null,
   "id": "fd6d0a69-86c6-4b6f-8a4f-b1ad60b4b9f7",
   "metadata": {},
   "outputs": [],
   "source": []
  }
 ],
 "metadata": {
  "kernelspec": {
   "display_name": "pyironhackathon",
   "language": "python",
   "name": "pyironhackathon"
  },
  "language_info": {
   "codemirror_mode": {
    "name": "ipython",
    "version": 3
   },
   "file_extension": ".py",
   "mimetype": "text/x-python",
   "name": "python",
   "nbconvert_exporter": "python",
   "pygments_lexer": "ipython3",
   "version": "3.11.6"
  }
 },
 "nbformat": 4,
 "nbformat_minor": 5
}
