{
 "cells": [
  {
   "cell_type": "code",
   "execution_count": 1,
   "id": "7ab13b25-7146-4de1-8b5e-d792c8b12275",
   "metadata": {},
   "outputs": [],
   "source": [
    "from ase.lattice.cubic import FaceCenteredCubic\n",
    "%config IPCompleter.evaluation='unsafe'"
   ]
  },
  {
   "cell_type": "code",
   "execution_count": 2,
   "id": "9340a3ce-95f6-400f-b673-2f03a5408e77",
   "metadata": {},
   "outputs": [],
   "source": [
    "aseAtoms = FaceCenteredCubic(directions = [[1, 1, 2], [-1, 1, 0], [-1, -1, 1]],\n",
    "                                               size=(4, 4, 20),\n",
    "                                               symbol='Ni',\n",
    "                                               pbc=(1,1,0),\n",
    "                                               latticeconstant = 3.52)"
   ]
  },
  {
   "cell_type": "code",
   "execution_count": 3,
   "id": "60eb81bd-b596-4d02-99f8-2368aa134e7b",
   "metadata": {},
   "outputs": [],
   "source": [
    "import numpy as np\n",
    "nAtoms = len(aseAtoms)\n",
    "np.set_printoptions(threshold=nAtoms)\n",
    "max_pos = np.max(aseAtoms.get_positions()[:][:,2])\n",
    "min_pos = np.min(aseAtoms.get_positions()[:][:,2])"
   ]
  },
  {
   "cell_type": "code",
   "execution_count": 4,
   "id": "053b0d5e-473c-4f40-a01d-2e98fe843b63",
   "metadata": {},
   "outputs": [],
   "source": [
    "is_top = aseAtoms.positions[:][:,2] >= max_pos-15.\n",
    "is_center = (aseAtoms.positions[:][:,2] < max_pos-15.) & (aseAtoms.positions[:][:,2] >= min_pos+15.)\n",
    "is_bottom = aseAtoms.positions[:][:,2] < min_pos+15."
   ]
  },
  {
   "cell_type": "code",
   "execution_count": 5,
   "id": "add05819-cfbe-4992-b563-8fbb3bf235d4",
   "metadata": {},
   "outputs": [],
   "source": [
    "aseAtoms.numbers[is_top] = 1\n",
    "aseAtoms.numbers[is_center] = 2\n",
    "aseAtoms.numbers[is_bottom] = 3"
   ]
  },
  {
   "cell_type": "code",
   "execution_count": 6,
   "id": "1e8d96ee-9218-4eb3-9155-b1a82d49472e",
   "metadata": {},
   "outputs": [],
   "source": [
    "aseAtoms.write('input.structure', format='lammps-data')"
   ]
  }
 ],
 "metadata": {
  "kernelspec": {
   "display_name": "pyironhackathon",
   "language": "python",
   "name": "pyironhackathon"
  },
  "language_info": {
   "codemirror_mode": {
    "name": "ipython",
    "version": 3
   },
   "file_extension": ".py",
   "mimetype": "text/x-python",
   "name": "python",
   "nbconvert_exporter": "python",
   "pygments_lexer": "ipython3",
   "version": "3.11.6"
  }
 },
 "nbformat": 4,
 "nbformat_minor": 5
}
