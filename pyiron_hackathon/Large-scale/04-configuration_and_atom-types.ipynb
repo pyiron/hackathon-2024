{
 "cells": [
  {
   "cell_type": "code",
   "execution_count": 1,
   "id": "7ab13b25-7146-4de1-8b5e-d792c8b12275",
   "metadata": {},
   "outputs": [],
   "source": [
    "from ase.lattice.cubic import FaceCenteredCubic\n",
    "%config IPCompleter.evaluation='unsafe'"
   ]
  },
  {
   "cell_type": "code",
   "execution_count": 2,
   "id": "9340a3ce-95f6-400f-b673-2f03a5408e77",
   "metadata": {},
   "outputs": [],
   "source": [
    "aseAtoms = FaceCenteredCubic(directions = [[1, 1, 2], [-1, 1, 0], [-1, -1, 1]],\n",
    "                                               size=(4, 4, 20),\n",
    "                                               symbol='Ni',\n",
    "                                               pbc=(1,1,0),\n",
    "                                               latticeconstant = 3.52)"
   ]
  },
  {
   "cell_type": "code",
   "execution_count": 3,
   "id": "60eb81bd-b596-4d02-99f8-2368aa134e7b",
   "metadata": {},
   "outputs": [],
   "source": [
    "import numpy as np\n",
    "nAtoms = len(aseAtoms)\n",
    "np.set_printoptions(threshold=nAtoms)\n",
    "max_pos = np.max(aseAtoms.get_positions()[:][:,2])\n",
    "min_pos = np.min(aseAtoms.get_positions()[:][:,2])"
   ]
  },
  {
   "cell_type": "code",
   "execution_count": 4,
   "id": "053b0d5e-473c-4f40-a01d-2e98fe843b63",
   "metadata": {},
   "outputs": [],
   "source": [
    "is_top = aseAtoms.positions[:][:,2] >= max_pos-15.\n",
    "is_center = (aseAtoms.positions[:][:,2] < max_pos-15.) & (aseAtoms.positions[:][:,2] >= min_pos+15.)\n",
    "is_bottom = aseAtoms.positions[:][:,2] < min_pos+15."
   ]
  },
  {
   "cell_type": "code",
   "execution_count": 5,
   "id": "add05819-cfbe-4992-b563-8fbb3bf235d4",
   "metadata": {},
   "outputs": [],
   "source": [
    "aseAtoms.numbers[is_top] = 1\n",
    "aseAtoms.numbers[is_center] = 2\n",
    "aseAtoms.numbers[is_bottom] = 3"
   ]
  },
  {
   "cell_type": "code",
   "execution_count": 6,
   "id": "1e8d96ee-9218-4eb3-9155-b1a82d49472e",
   "metadata": {},
   "outputs": [],
   "source": [
    "aseAtoms.write('input.structure', format='lammps-data')"
   ]
  },
  {
   "cell_type": "code",
   "execution_count": 7,
   "id": "d0693d22-2c53-443d-adee-238c64059351",
   "metadata": {},
   "outputs": [
    {
     "ename": "SyntaxError",
     "evalue": "unterminated string literal (detected at line 1) (1243608238.py, line 1)",
     "output_type": "error",
     "traceback": [
      "\u001b[0;36m  Cell \u001b[0;32mIn[7], line 1\u001b[0;36m\u001b[0m\n\u001b[0;31m    lmp_input = \"\u001b[0m\n\u001b[0m                ^\u001b[0m\n\u001b[0;31mSyntaxError\u001b[0m\u001b[0;31m:\u001b[0m unterminated string literal (detected at line 1)\n"
     ]
    }
   ],
   "source": [
    "lmp_input = \"\n",
    "read_data /u/mbruns/notebooks/2024-09-09-pyiron_hackathon/input.structure\n",
    "\""
   ]
  },
  {
   "cell_type": "code",
   "execution_count": 8,
   "id": "ebcae48d-88e4-456f-9ed2-13dcafc8c2dd",
   "metadata": {},
   "outputs": [],
   "source": [
    "from pyiron_base import Project"
   ]
  },
  {
   "cell_type": "code",
   "execution_count": 9,
   "id": "0304cd24-9049-4826-8e03-fa74cb98be39",
   "metadata": {},
   "outputs": [],
   "source": [
    "pr = Project('lammps-run')"
   ]
  },
  {
   "cell_type": "code",
   "execution_count": 14,
   "id": "492f6421-bc94-4eae-8192-a29168f22744",
   "metadata": {},
   "outputs": [
    {
     "data": {
      "text/plain": [
       "\u001b[0;31mSignature:\u001b[0m \u001b[0mpr\u001b[0m\u001b[0;34m.\u001b[0m\u001b[0mcreate_job\u001b[0m\u001b[0;34m(\u001b[0m\u001b[0mjob_type\u001b[0m\u001b[0;34m,\u001b[0m \u001b[0mjob_name\u001b[0m\u001b[0;34m,\u001b[0m \u001b[0mdelete_existing_job\u001b[0m\u001b[0;34m=\u001b[0m\u001b[0;32mFalse\u001b[0m\u001b[0;34m)\u001b[0m\u001b[0;34m\u001b[0m\u001b[0;34m\u001b[0m\u001b[0m\n",
       "\u001b[0;31mSource:\u001b[0m   \n",
       "    \u001b[0;32mdef\u001b[0m \u001b[0mcreate_job\u001b[0m\u001b[0;34m(\u001b[0m\u001b[0mself\u001b[0m\u001b[0;34m,\u001b[0m \u001b[0mjob_type\u001b[0m\u001b[0;34m,\u001b[0m \u001b[0mjob_name\u001b[0m\u001b[0;34m,\u001b[0m \u001b[0mdelete_existing_job\u001b[0m\u001b[0;34m=\u001b[0m\u001b[0;32mFalse\u001b[0m\u001b[0;34m)\u001b[0m\u001b[0;34m:\u001b[0m\u001b[0;34m\u001b[0m\n",
       "\u001b[0;34m\u001b[0m        \u001b[0;34m\"\"\"\u001b[0m\n",
       "\u001b[0;34m        Create one of the following jobs:\u001b[0m\n",
       "\u001b[0;34m        - 'ExampleJob': example job just generating random number\u001b[0m\n",
       "\u001b[0;34m        - 'ParallelMaster': series of jobs run in parallel\u001b[0m\n",
       "\u001b[0;34m        - 'ScriptJob': Python script or jupyter notebook job container\u001b[0m\n",
       "\u001b[0;34m        - 'ListMaster': list of jobs\u001b[0m\n",
       "\u001b[0;34m\u001b[0m\n",
       "\u001b[0;34m        Args:\u001b[0m\n",
       "\u001b[0;34m            job_type (str): job type can be ['ExampleJob', 'ParallelMaster', 'ScriptJob', 'ListMaster']\u001b[0m\n",
       "\u001b[0;34m            job_name (str): name of the job\u001b[0m\n",
       "\u001b[0;34m            delete_existing_job (bool): delete an existing job - default false\u001b[0m\n",
       "\u001b[0;34m\u001b[0m\n",
       "\u001b[0;34m        Returns:\u001b[0m\n",
       "\u001b[0;34m            GenericJob: job object depending on the job_type selected\u001b[0m\n",
       "\u001b[0;34m        \"\"\"\u001b[0m\u001b[0;34m\u001b[0m\n",
       "\u001b[0;34m\u001b[0m        \u001b[0mjob_name\u001b[0m \u001b[0;34m=\u001b[0m \u001b[0m_get_safe_job_name\u001b[0m\u001b[0;34m(\u001b[0m\u001b[0mname\u001b[0m\u001b[0;34m=\u001b[0m\u001b[0mjob_name\u001b[0m\u001b[0;34m)\u001b[0m\u001b[0;34m\u001b[0m\n",
       "\u001b[0;34m\u001b[0m        \u001b[0mjob\u001b[0m \u001b[0;34m=\u001b[0m \u001b[0mJobType\u001b[0m\u001b[0;34m(\u001b[0m\u001b[0;34m\u001b[0m\n",
       "\u001b[0;34m\u001b[0m            \u001b[0mjob_type\u001b[0m\u001b[0;34m,\u001b[0m\u001b[0;34m\u001b[0m\n",
       "\u001b[0;34m\u001b[0m            \u001b[0mproject\u001b[0m\u001b[0;34m=\u001b[0m\u001b[0mProjectHDFio\u001b[0m\u001b[0;34m(\u001b[0m\u001b[0mproject\u001b[0m\u001b[0;34m=\u001b[0m\u001b[0mself\u001b[0m\u001b[0;34m.\u001b[0m\u001b[0mcopy\u001b[0m\u001b[0;34m(\u001b[0m\u001b[0;34m)\u001b[0m\u001b[0;34m,\u001b[0m \u001b[0mfile_name\u001b[0m\u001b[0;34m=\u001b[0m\u001b[0mjob_name\u001b[0m\u001b[0;34m)\u001b[0m\u001b[0;34m,\u001b[0m\u001b[0;34m\u001b[0m\n",
       "\u001b[0;34m\u001b[0m            \u001b[0mjob_name\u001b[0m\u001b[0;34m=\u001b[0m\u001b[0mjob_name\u001b[0m\u001b[0;34m,\u001b[0m\u001b[0;34m\u001b[0m\n",
       "\u001b[0;34m\u001b[0m            \u001b[0mjob_class_dict\u001b[0m\u001b[0;34m=\u001b[0m\u001b[0mself\u001b[0m\u001b[0;34m.\u001b[0m\u001b[0mjob_type\u001b[0m\u001b[0;34m.\u001b[0m\u001b[0mjob_class_dict\u001b[0m\u001b[0;34m,\u001b[0m\u001b[0;34m\u001b[0m\n",
       "\u001b[0;34m\u001b[0m            \u001b[0mdelete_existing_job\u001b[0m\u001b[0;34m=\u001b[0m\u001b[0mdelete_existing_job\u001b[0m\u001b[0;34m,\u001b[0m\u001b[0;34m\u001b[0m\n",
       "\u001b[0;34m\u001b[0m        \u001b[0;34m)\u001b[0m\u001b[0;34m\u001b[0m\n",
       "\u001b[0;34m\u001b[0m        \u001b[0;32mif\u001b[0m \u001b[0mself\u001b[0m\u001b[0;34m.\u001b[0m\u001b[0muser\u001b[0m \u001b[0;32mis\u001b[0m \u001b[0;32mnot\u001b[0m \u001b[0;32mNone\u001b[0m\u001b[0;34m:\u001b[0m\u001b[0;34m\u001b[0m\n",
       "\u001b[0;34m\u001b[0m            \u001b[0mjob\u001b[0m\u001b[0;34m.\u001b[0m\u001b[0muser\u001b[0m \u001b[0;34m=\u001b[0m \u001b[0mself\u001b[0m\u001b[0;34m.\u001b[0m\u001b[0muser\u001b[0m\u001b[0;34m\u001b[0m\n",
       "\u001b[0;34m\u001b[0m        \u001b[0;32mreturn\u001b[0m \u001b[0mjob\u001b[0m\u001b[0;34m\u001b[0m\u001b[0;34m\u001b[0m\u001b[0m\n",
       "\u001b[0;31mFile:\u001b[0m      /cmmc/ptmp/pyironhb/mambaforge/envs/pyiron_mpie_cmti_2024-09-02/lib/python3.11/site-packages/pyiron_base/project/generic.py\n",
       "\u001b[0;31mType:\u001b[0m      method"
      ]
     },
     "metadata": {},
     "output_type": "display_data"
    }
   ],
   "source": [
    "job = pr.create_job??\n",
    "#(job_type='ParallelMaster', job_name='bulk-Ni', delete_existing_job=True)"
   ]
  },
  {
   "cell_type": "code",
   "execution_count": null,
   "id": "41118cbc-3ecc-4f3b-8591-eef1417b82ad",
   "metadata": {},
   "outputs": [],
   "source": [
    "job.structure = aseAtoms"
   ]
  },
  {
   "cell_type": "code",
   "execution_count": null,
   "id": "f6c2278c-a5d4-4943-b904-35c9b992579d",
   "metadata": {},
   "outputs": [],
   "source": [
    "job.input.control"
   ]
  },
  {
   "cell_type": "code",
   "execution_count": null,
   "id": "fd6d0a69-86c6-4b6f-8a4f-b1ad60b4b9f7",
   "metadata": {},
   "outputs": [],
   "source": [
    "job.input.control['read_data'] = '/u/mbruns/norebooks/2024-09-09-pyiron_hackathon/input.structure'"
   ]
  },
  {
   "cell_type": "code",
   "execution_count": null,
   "id": "dc8cf0ee-65e8-4a2f-b9dc-0b0e087fa81d",
   "metadata": {},
   "outputs": [],
   "source": [
    "job."
   ]
  },
  {
   "cell_type": "code",
   "execution_count": null,
   "id": "579a03c1-91b8-4137-b40a-0c22a77e7cab",
   "metadata": {},
   "outputs": [],
   "source": [
    "job.list_potentials()"
   ]
  },
  {
   "cell_type": "code",
   "execution_count": null,
   "id": "51197a40-850f-4c7e-8310-e0fe5b18a0ce",
   "metadata": {},
   "outputs": [],
   "source": []
  }
 ],
 "metadata": {
  "kernelspec": {
   "display_name": "pyironhackathon",
   "language": "python",
   "name": "pyironhackathon"
  },
  "language_info": {
   "codemirror_mode": {
    "name": "ipython",
    "version": 3
   },
   "file_extension": ".py",
   "mimetype": "text/x-python",
   "name": "python",
   "nbconvert_exporter": "python",
   "pygments_lexer": "ipython3",
   "version": "3.11.6"
  }
 },
 "nbformat": 4,
 "nbformat_minor": 5
}
