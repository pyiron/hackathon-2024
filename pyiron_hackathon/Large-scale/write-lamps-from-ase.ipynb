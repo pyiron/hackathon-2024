{
 "cells": [
  {
   "cell_type": "code",
   "execution_count": 3,
   "id": "310add95-7190-4351-a153-8dad179bbe47",
   "metadata": {},
   "outputs": [],
   "source": [
    "import ase\n",
    "import numpy as np"
   ]
  },
  {
   "cell_type": "code",
   "execution_count": 2,
   "id": "f5ed6763-0974-48c1-acc3-65a5ff335058",
   "metadata": {},
   "outputs": [],
   "source": [
    "from ase.lattice.cubic import FaceCenteredCubic\n",
    "ase_atoms = FaceCenteredCubic(directions = [[1, 1, 2], [-1, 1, 0], [-1, -1, 1]],\n",
    "                          size=(4, 4, 20),\n",
    "                          symbol='Ni',\n",
    "                          pbc=(1,1,0),\n",
    "                         latticeconstant = 3.52)"
   ]
  },
  {
   "cell_type": "code",
   "execution_count": 7,
   "id": "f75a4d9f-4b4e-47da-8da0-fb6e6a3e961f",
   "metadata": {},
   "outputs": [],
   "source": [
    "positions = ase_atoms.positions"
   ]
  },
  {
   "cell_type": "code",
   "execution_count": 15,
   "id": "aa4f85ce-bf9d-4e99-9b7a-e08156917c10",
   "metadata": {},
   "outputs": [],
   "source": [
    "atomtypes = ase_atoms.numbers\n",
    "numbers = np.zeros(len(ase_atoms),dtype=int)\n"
   ]
  },
  {
   "cell_type": "code",
   "execution_count": null,
   "id": "93e721a1-8762-42db-ac6d-12b492c7fcbf",
   "metadata": {},
   "outputs": [],
   "source": [
    "max_pos = np.max(ase_atoms.get_positions()[:,2])\n",
    "is_bottom = ase_atoms.get_positions()[:,2] < 15\n",
    "is_top = ase_atoms.get_positions()[:,2] >= max_pos - 15\n",
    "total_types = 3\n",
    "virt_types = 2\n"
   ]
  },
  {
   "cell_type": "code",
   "execution_count": 23,
   "id": "88502621-7f73-4d67-9bdb-3f7510b10330",
   "metadata": {},
   "outputs": [
    {
     "data": {
      "text/plain": [
       "array([3, 3, 3, ..., 2, 2, 2])"
      ]
     },
     "execution_count": 23,
     "metadata": {},
     "output_type": "execute_result"
    }
   ],
   "source": [
    "numbers[is_top] = 2\n",
    "numbers[is_bottom] = 3\n",
    "numbers"
   ]
  },
  {
   "cell_type": "code",
   "execution_count": 24,
   "id": "f8decc78-cec7-437e-950c-f8b119a81f89",
   "metadata": {},
   "outputs": [
    {
     "data": {
      "text/plain": [
       "array([3, 3, 3, ..., 2, 2, 2])"
      ]
     },
     "execution_count": 24,
     "metadata": {},
     "output_type": "execute_result"
    }
   ],
   "source": [
    "ase_atoms.numbers = numbers\n",
    "ase_atoms.numbers"
   ]
  },
  {
   "cell_type": "code",
   "execution_count": 35,
   "id": "e66a7764-1034-46a1-98ad-e88394374171",
   "metadata": {},
   "outputs": [],
   "source": [
    "ase_atoms.write('test.in',\n",
    "    format='lammps-data',\n",
    ")"
   ]
  },
  {
   "cell_type": "code",
   "execution_count": 41,
   "id": "c384e735-7d4b-4758-8f32-0cac74d70b51",
   "metadata": {},
   "outputs": [],
   "source": [
    "from pyiron import Project\n",
    "pr = Project(path='first_steps_large_struct')\n"
   ]
  },
  {
   "cell_type": "code",
   "execution_count": 46,
   "id": "5b4e2b16-4c10-417c-a009-838cebc99bf2",
   "metadata": {},
   "outputs": [],
   "source": [
    "job = pr.create_job(job_type=pr.job_type.Lammps, job_name='Ni_relax')\n"
   ]
  },
  {
   "cell_type": "code",
   "execution_count": 43,
   "id": "20d66d30-e165-418b-aff5-d26ffc83696b",
   "metadata": {},
   "outputs": [
    {
     "data": {
      "text/plain": [
       "<bound method GenericJob.check_setup of {'groups': [], 'nodes': []}>"
      ]
     },
     "execution_count": 43,
     "metadata": {},
     "output_type": "execute_result"
    }
   ],
   "source": [
    "job.check_setup"
   ]
  },
  {
   "cell_type": "code",
   "execution_count": 45,
   "id": "a6939ca8-52bf-4dd7-9bca-461e4cb1498e",
   "metadata": {},
   "outputs": [
    {
     "ename": "TypeError",
     "evalue": "'NoneType' object is not callable",
     "output_type": "error",
     "traceback": [
      "\u001b[0;31m---------------------------------------------------------------------------\u001b[0m",
      "\u001b[0;31mTypeError\u001b[0m                                 Traceback (most recent call last)",
      "Cell \u001b[0;32mIn[45], line 1\u001b[0m\n\u001b[0;32m----> 1\u001b[0m \u001b[43mjob\u001b[49m\u001b[38;5;241;43m.\u001b[39;49m\u001b[43mpotential\u001b[49m\u001b[43m(\u001b[49m\u001b[43m)\u001b[49m\n",
      "\u001b[0;31mTypeError\u001b[0m: 'NoneType' object is not callable"
     ]
    }
   ],
   "source": [
    "job."
   ]
  },
  {
   "cell_type": "code",
   "execution_count": null,
   "id": "798ae693-cdb8-4275-97cd-d835650d82f5",
   "metadata": {},
   "outputs": [],
   "source": []
  }
 ],
 "metadata": {
  "kernelspec": {
   "display_name": "pyironhackathon",
   "language": "python",
   "name": "pyironhackathon"
  },
  "language_info": {
   "codemirror_mode": {
    "name": "ipython",
    "version": 3
   },
   "file_extension": ".py",
   "mimetype": "text/x-python",
   "name": "python",
   "nbconvert_exporter": "python",
   "pygments_lexer": "ipython3",
   "version": "3.11.6"
  }
 },
 "nbformat": 4,
 "nbformat_minor": 5
}
