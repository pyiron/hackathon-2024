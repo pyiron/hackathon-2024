{
 "cells": [
  {
   "cell_type": "markdown",
   "id": "15038de1-cd82-4214-8ff4-57ca41250551",
   "metadata": {},
   "source": [
    "# Classical `pyiron_atomistics` workflow"
   ]
  },
  {
   "cell_type": "code",
   "execution_count": 1,
   "id": "c83f2bb2-f2cb-4c4b-b7d7-9caa1269b80a",
   "metadata": {},
   "outputs": [
    {
     "data": {
      "application/vnd.jupyter.widget-view+json": {
       "model_id": "5edfbd62ff3a4ebfaca7bf763bbb4814",
       "version_major": 2,
       "version_minor": 0
      },
      "text/plain": []
     },
     "metadata": {},
     "output_type": "display_data"
    }
   ],
   "source": [
    "from pyiron_atomistics import Project"
   ]
  },
  {
   "cell_type": "code",
   "execution_count": 2,
   "id": "aa99164d-4753-42c0-9303-4c849fe20cce",
   "metadata": {},
   "outputs": [
    {
     "data": {
      "application/vnd.jupyter.widget-view+json": {
       "model_id": "d1c89d88318f4cc7bfedcff6ba3b6e7b",
       "version_major": 2,
       "version_minor": 0
      },
      "text/plain": [
       "  0%|          | 0/1 [00:00<?, ?it/s]"
      ]
     },
     "metadata": {},
     "output_type": "display_data"
    }
   ],
   "source": [
    "pr = Project(\"test\")\n",
    "pr.remove_jobs(recursive=True, silently=True)"
   ]
  },
  {
   "cell_type": "code",
   "execution_count": 3,
   "id": "30dd2328-fff9-4252-bb03-d22de4d661a0",
   "metadata": {},
   "outputs": [
    {
     "name": "stdout",
     "output_type": "stream",
     "text": [
      "The job lmp was saved and received the ID: 9\n"
     ]
    }
   ],
   "source": [
    "job = pr.create.job.Lammps(\"lmp\")\n",
    "job.structure = pr.create.structure.ase.bulk(\"Al\", cubic=True)\n",
    "job.potential = '2009--Mendelev-M-I--Al-Mg--LAMMPS--ipr1'\n",
    "job.calc_md(temperature=800.0)\n",
    "job.run()"
   ]
  },
  {
   "cell_type": "code",
   "execution_count": 4,
   "id": "97d30101-2b34-4291-9614-ecb1f17ccf7a",
   "metadata": {},
   "outputs": [
    {
     "data": {
      "text/plain": [
       "array([-13.02198332, -13.02578522, -13.03384016, -13.05655109,\n",
       "       -13.08623728, -13.07281326, -12.97428573, -12.78919039,\n",
       "       -12.79455942, -13.12817594, -13.25768624])"
      ]
     },
     "execution_count": 4,
     "metadata": {},
     "output_type": "execute_result"
    }
   ],
   "source": [
    "job.output.energy_tot"
   ]
  },
  {
   "cell_type": "markdown",
   "id": "8143a5a4-673c-486f-ba47-38b51fe1f3af",
   "metadata": {},
   "source": [
    "# Functional `pyiron_atomistics`"
   ]
  },
  {
   "cell_type": "code",
   "execution_count": 5,
   "id": "ba6e8794-bae7-46d6-b82b-bb3d3f31df34",
   "metadata": {},
   "outputs": [],
   "source": [
    "import os\n",
    "import shutil\n",
    "from ase.build import bulk\n",
    "from pyiron_atomistics.lammps.lammps import lammps_function"
   ]
  },
  {
   "cell_type": "code",
   "execution_count": 6,
   "id": "4dd09c18-95ff-49a1-9e3d-2a40597819e1",
   "metadata": {},
   "outputs": [],
   "source": [
    "path_lmp_calculation = os.path.abspath(\"lmp_working_directory\")\n",
    "if os.path.exists(path_lmp_calculation):\n",
    "    shutil.rmtree(path_lmp_calculation)"
   ]
  },
  {
   "cell_type": "code",
   "execution_count": 7,
   "id": "75fb7cc5-b692-4eea-9557-28a5c5bcf081",
   "metadata": {},
   "outputs": [],
   "source": [
    "shell_output, parsed_output, job_crashed = lammps_function(\n",
    "    working_directory=path_lmp_calculation,\n",
    "    structure=bulk(\"Al\", cubic=True),\n",
    "    potential='2009--Mendelev-M-I--Al-Mg--LAMMPS--ipr1',\n",
    "    calc_mode=\"md\",\n",
    "    calc_kwargs={\"temperature\": 800.0},\n",
    ")"
   ]
  },
  {
   "cell_type": "code",
   "execution_count": 8,
   "id": "c22bbed4-eaae-4179-ba8b-f1f1e846737d",
   "metadata": {},
   "outputs": [
    {
     "data": {
      "text/plain": [
       "array([-13.02198332, -13.03067074, -13.04298736, -13.07114289,\n",
       "       -13.10184814, -13.07819455, -12.947697  , -12.73162402,\n",
       "       -12.80833257, -13.18026713, -13.25120298])"
      ]
     },
     "execution_count": 8,
     "metadata": {},
     "output_type": "execute_result"
    }
   ],
   "source": [
    "parsed_output[\"generic\"][\"energy_tot\"]"
   ]
  },
  {
   "cell_type": "code",
   "execution_count": null,
   "id": "88f8e8c0-e058-445b-a4a9-c0b1c0bbc78e",
   "metadata": {},
   "outputs": [],
   "source": []
  }
 ],
 "metadata": {
  "kernelspec": {
   "display_name": "Python 3 (ipykernel)",
   "language": "python",
   "name": "python3"
  },
  "language_info": {
   "codemirror_mode": {
    "name": "ipython",
    "version": 3
   },
   "file_extension": ".py",
   "mimetype": "text/x-python",
   "name": "python",
   "nbconvert_exporter": "python",
   "pygments_lexer": "ipython3",
   "version": "3.12.5"
  }
 },
 "nbformat": 4,
 "nbformat_minor": 5
}
