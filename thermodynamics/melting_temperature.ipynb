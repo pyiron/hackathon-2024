{
 "cells": [
  {
   "cell_type": "code",
   "execution_count": 1,
   "id": "484c294b-bc9c-4d79-afc5-a37206cb5909",
   "metadata": {},
   "outputs": [],
   "source": [
    "from pyiron_workflow import Workflow\n",
    "import numpy as np\n",
    "import matplotlib.pyplot as plt\n",
    "import pyiron_workflow as pwf"
   ]
  },
  {
   "cell_type": "code",
   "execution_count": 2,
   "id": "0fe35423-8335-4109-b3be-3618467a8560",
   "metadata": {
    "scrolled": true
   },
   "outputs": [],
   "source": [
    "from calphy_nodes import RunFreeEnergy, InputClass"
   ]
  },
  {
   "cell_type": "code",
   "execution_count": 3,
   "id": "102dbd47-d1fd-4bf3-a300-9eb1741ec7c0",
   "metadata": {},
   "outputs": [],
   "source": [
    "@Workflow.wrap.as_function_node()\n",
    "def increment_temperature(temperature,  \n",
    "                          increment):\n",
    "    new_temperature = temperature + increment\n",
    "    return new_temperature"
   ]
  },
  {
   "cell_type": "code",
   "execution_count": 4,
   "id": "6b7aeed6-fd7c-4793-8406-16d3b74e7ea3",
   "metadata": {},
   "outputs": [],
   "source": [
    "@Workflow.wrap.as_macro_node\n",
    "def WhileRunFreeEnergy(wf, inp, \n",
    "                       species: str, \n",
    "                       potential: str,\n",
    "                       temperature: float,\n",
    "                       increment: float,\n",
    "                       max_temperature: float):\n",
    "    wf.free_energy = RunFreeEnergy(inp,\n",
    "                                  species,\n",
    "                                  potential,\n",
    "                                  temperature)\n",
    "    #wf.increment_temperature = increment_temperature(wf.free_energy.outputs.temperature,\n",
    "    #                                        increment)\n",
    "    wf.free_energy.inputs.temperature = wf.free_energy.outputs.incremented_temp\n",
    "    wf.condition = pwf.standard_nodes.LessThan(wf.free_energy.outputs.incremented_temp, \n",
    "                                               max_temperature)\n",
    "    \n",
    "    wf.switch = pwf.standard_nodes.If()\n",
    "    wf.switch.inputs.condition = wf.condition\n",
    "    \n",
    "    wf.starting_nodes = [wf.free_energy]\n",
    "    wf.free_energy >> wf.condition >> wf.switch\n",
    "    wf.switch.signals.output.true >> wf.free_energy\n",
    "    return wf.free_energy"
   ]
  },
  {
   "cell_type": "code",
   "execution_count": 5,
   "id": "1d67983d-4359-4388-9baa-86ab4e0df38a",
   "metadata": {},
   "outputs": [],
   "source": [
    "inp = InputClass(temperature=800,\n",
    "                pressure=0,\n",
    "                reference_phase = 'solid',\n",
    "                mode = 'fe',\n",
    "                equilibration_control = 'berendsen',\n",
    "                )\n",
    "inp.queue.cores = 4\t"
   ]
  },
  {
   "cell_type": "code",
   "execution_count": 6,
   "id": "3e17f38f-f9f3-4ade-8171-4d6991a1c468",
   "metadata": {
    "scrolled": true
   },
   "outputs": [],
   "source": [
    "macro = WhileRunFreeEnergy(inp,\n",
    "                          'Cu',\n",
    "                          '2004--Zhou-X-W--Cu-Ag-Au--LAMMPS--ipr2',\n",
    "                           800.,\n",
    "                           100.,\n",
    "                           1000.\n",
    "                          )\n",
    "#macro = RunFreeEnergy(inp,\n",
    "#                          'Cu',\n",
    "#                          '2004--Zhou-X-W--Cu-Ag-Au--LAMMPS--ipr2',\n",
    "#                           800.,)"
   ]
  },
  {
   "cell_type": "code",
   "execution_count": null,
   "id": "8bac9dee-633d-4203-a509-a6307a020537",
   "metadata": {},
   "outputs": [
    {
     "data": {
      "application/vnd.jupyter.widget-view+json": {
       "model_id": "1f50c0422afd4590ae81a8bb946da060",
       "version_major": 2,
       "version_minor": 0
      },
      "text/plain": []
     },
     "metadata": {},
     "output_type": "display_data"
    },
    {
     "name": "stderr",
     "output_type": "stream",
     "text": [
      "/cmmc/ptmp/pyironhb/mambaforge/envs/pyiron_mpie_cmti_2024-09-09/lib/python3.11/site-packages/ase/io/lammpsdata.py:49: FutureWarning: \"style\" is deprecated; please use \"atom_style\".\n",
      "  warnings.warn(\n",
      "--------------------------------------------------------------------------\n",
      "WARNING: There was an error initializing an OpenFabrics device.\n",
      "\n",
      "  Local host:   cmti001\n",
      "  Local device: hfi1_0\n",
      "--------------------------------------------------------------------------\n",
      "[cmti001:25977] 3 more processes have sent help message help-mpi-btl-openib.txt / error in device init\n",
      "[cmti001:25977] Set MCA parameter \"orte_base_help_aggregate\" to 0 to see all help / error messages\n",
      "--------------------------------------------------------------------------\n",
      "WARNING: There was an error initializing an OpenFabrics device.\n",
      "\n",
      "  Local host:   cmti001\n",
      "  Local device: hfi1_0\n",
      "--------------------------------------------------------------------------\n",
      "[cmti001:26095] 3 more processes have sent help message help-mpi-btl-openib.txt / error in device init\n",
      "[cmti001:26095] Set MCA parameter \"orte_base_help_aggregate\" to 0 to see all help / error messages\n"
     ]
    }
   ],
   "source": [
    "macro.run()"
   ]
  },
  {
   "cell_type": "code",
   "execution_count": 24,
   "id": "82e7f15c-2d6d-41df-88cb-9489d0c76ea6",
   "metadata": {},
   "outputs": [],
   "source": [
    "@Workflow.wrap.as_macro_node\n",
    "def AddWhileLessThan(wf, a, b, cap):\n",
    "    \"\"\"\n",
    "    Add :param:`b` to :param:`a` while the sum is less than or equal to :param:`cap`.\n",
    "\n",
    "    A simple but complete demonstrator for how to construct cyclic flows, including\n",
    "    logging key outputs during the loop.\n",
    "    \"\"\"\n",
    "    # Bespoke logic\n",
    "    wf.body = pwf.standard_nodes.Add(obj=a, other=b)\n",
    "    wf.body.inputs.obj = wf.body.outputs.add  # Higher priority connection\n",
    "    # The output is NOT_DATA on the first pass and `a` gets used, \n",
    "    # But after that the node will find and use its own output\n",
    "    wf.condition = pwf.standard_nodes.LessThan(wf.body, cap)\n",
    "\n",
    "    # Universal logic\n",
    "    wf.switch = pwf.standard_nodes.If()\n",
    "    wf.switch.inputs.condition = wf.condition\n",
    "\n",
    "    wf.starting_nodes = [wf.body]\n",
    "    wf.body >> wf.condition >> wf.switch\n",
    "    wf.switch.signals.output.true >> wf.body\n",
    "    return wf.body"
   ]
  },
  {
   "cell_type": "code",
   "execution_count": 25,
   "id": "877f5c75-a698-4991-9e54-8c359e2a63f5",
   "metadata": {},
   "outputs": [],
   "source": [
    "macro = AddWhileLessThan(2,3,10)"
   ]
  },
  {
   "cell_type": "code",
   "execution_count": 26,
   "id": "1ca084e0-c556-4b9a-9051-9d81ed4a91fc",
   "metadata": {},
   "outputs": [
    {
     "data": {
      "text/plain": [
       "{'body': 11}"
      ]
     },
     "execution_count": 26,
     "metadata": {},
     "output_type": "execute_result"
    }
   ],
   "source": [
    "macro.run()"
   ]
  },
  {
   "cell_type": "code",
   "execution_count": null,
   "id": "d295e1db-0a0b-428c-b62e-84025b27954b",
   "metadata": {},
   "outputs": [],
   "source": []
  }
 ],
 "metadata": {
  "kernelspec": {
   "display_name": "pyiron/latest (python3.11)",
   "language": "python",
   "name": "python3"
  },
  "language_info": {
   "codemirror_mode": {
    "name": "ipython",
    "version": 3
   },
   "file_extension": ".py",
   "mimetype": "text/x-python",
   "name": "python",
   "nbconvert_exporter": "python",
   "pygments_lexer": "ipython3",
   "version": "3.11.6"
  }
 },
 "nbformat": 4,
 "nbformat_minor": 5
}
