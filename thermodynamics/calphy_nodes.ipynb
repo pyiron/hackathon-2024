{
 "cells": [
  {
   "cell_type": "code",
   "execution_count": 8,
   "id": "c39fa7d8-e5f1-4415-89b5-7aea65cc10f9",
   "metadata": {},
   "outputs": [],
   "source": [
    "from pyiron_workflow import Workflow\n",
    "from structure_nodes import get_structure\n",
    "from thermo_potential import obtain_potential\n",
    "import numpy as np"
   ]
  },
  {
   "cell_type": "markdown",
   "id": "b353e922-6172-4bcc-8d33-ac36896086fb",
   "metadata": {},
   "source": [
    "### Create input template"
   ]
  },
  {
   "cell_type": "code",
   "execution_count": 9,
   "id": "63aea270-51b4-4193-b95a-7b1001c9d0e5",
   "metadata": {},
   "outputs": [],
   "source": [
    "def CreateInputDict():\n",
    "    return {\n",
    "        \"mode\": None,\n",
    "        \"pressure\": 0,\n",
    "        \"temperature\": 0,\n",
    "        \"reference_phase\": None,\n",
    "        \"npt\": True,\n",
    "        \"n_equilibration_steps\": 15000,\n",
    "        \"n_switching_steps\": 25000,\n",
    "        \"n_print_steps\": 1000,\n",
    "        \"n_iterations\": 1,\n",
    "        \"spring_constants\": None,\n",
    "        \"equilibration_control\": \"nose-hoover\",\n",
    "        \"melting_cycle\": True,\n",
    "        \"md\": {\n",
    "            \"timestep\": 0.001,\n",
    "            \"n_small_steps\": 10000,\n",
    "            \"n_every_steps\": 10,\n",
    "            \"n_repeat_steps\": 10,\n",
    "            \"n_cycles\": 100,\n",
    "            \"thermostat_damping\": 0.5,\n",
    "            \"barostat_damping\": 0.1,\n",
    "        },\n",
    "        \"tolerance\": {\n",
    "            \"lattice_constant\": 0.0002,\n",
    "            \"spring_constant\": 0.01,\n",
    "            \"solid_fraction\": 0.7,\n",
    "            \"liquid_fraction\": 0.05,\n",
    "            \"pressure\": 0.5,\n",
    "        },\n",
    "        \"nose_hoover\": {\n",
    "            \"thermostat_damping\": 0.1,\n",
    "            \"barostat_damping\": 0.1,\n",
    "        },\n",
    "        \"berendsen\": {\n",
    "            \"thermostat_damping\": 100.0,\n",
    "            \"barostat_damping\": 100.0,\n",
    "        },\n",
    "        \"queue\": {\n",
    "            \"cores\": 1,\n",
    "        }\n",
    "\n",
    "    }"
   ]
  },
  {
   "cell_type": "code",
   "execution_count": 10,
   "id": "9d5c9c55-f283-4638-826a-66086f89ccf6",
   "metadata": {},
   "outputs": [],
   "source": [
    "inp = CreateInputDict()"
   ]
  },
  {
   "cell_type": "code",
   "execution_count": 11,
   "id": "cee1c1fb-b99c-4adc-837c-68b7082a67ac",
   "metadata": {},
   "outputs": [],
   "source": [
    "inp['temperature'] = 1000\n",
    "inp['pressure'] = 0\n",
    "inp['reference_phase'] = 'solid'\n",
    "inp['mode'] = 'fe'\n",
    "inp['equilibration_control'] = 'berendsen'\n",
    "inp['queue']['cores'] = 4\t"
   ]
  },
  {
   "cell_type": "markdown",
   "id": "0a432622-9366-474b-beab-a194cbf0723d",
   "metadata": {},
   "source": [
    "### Initialise job"
   ]
  },
  {
   "cell_type": "code",
   "execution_count": 12,
   "id": "b6b0af1e-5c4a-4b19-a7a7-9cfbdde12b14",
   "metadata": {},
   "outputs": [],
   "source": [
    "@Workflow.wrap.as_function_node()\n",
    "def Initialize(inputdict, structure, potential_obj, files, potential_config):\n",
    "    from pyiron_atomistics.lammps.structure import (\n",
    "        LammpsStructure,\n",
    "        UnfoldingPrism,\n",
    "        structure_to_lammps,\n",
    "    ) \n",
    "    import os\n",
    "    from calphy.input import Calculation\n",
    "    import shutil\n",
    "    \n",
    "    #filename of structure\n",
    "    file_name = os.path.join(os.getcwd(), 'temp.struct.dat')\n",
    "    lmp_structure = LammpsStructure()\n",
    "    lmp_structure.potential = potential_obj\n",
    "    lmp_structure.atom_type = \"atomic\"\n",
    "    lmp_structure.el_eam_lst = potential_obj.get_element_lst()\n",
    "    lmp_structure.structure = structure_to_lammps(structure)\n",
    "    if not set(lmp_structure.structure.get_species_symbols()).issubset(\n",
    "        set(lmp_structure.el_eam_lst)\n",
    "    ):\n",
    "        raise ValueError(\n",
    "            \"The selected potentials do not support the given combination of elements.\"\n",
    "        )\n",
    "    lmp_structure.write_file(file_name=file_name)\n",
    "\n",
    "    #now populate the input dict\n",
    "    inputdict['lattice'] = file_name\n",
    "    inputdict['pair_style'] = potential_config[0].strip().split('pair_style ')[-1]\n",
    "    inputdict['pair_coeff'] = potential_config[1].strip().split('pair_coeff ')[-1]\n",
    "    inputdict['element'] = potential_obj.get_element_lst()\n",
    "\n",
    "    elements_from_pot = inputdict['element']\n",
    "    elements_object_lst = structure.get_species_objects()\n",
    "    elements_struct_lst = structure.get_species_symbols()\n",
    "\n",
    "    masses = []\n",
    "    for element_name in elements_from_pot:\n",
    "        if element_name in elements_struct_lst:\n",
    "            index = list(elements_struct_lst).index(element_name)\n",
    "            masses.append(elements_object_lst[index].AtomicMass)\n",
    "        else:\n",
    "            masses.append(1.0)\n",
    " \n",
    "    inputdict['mass'] = masses\n",
    "    \n",
    "    #working directory\n",
    "    calculation = Calculation(**inputdict)\n",
    "    simfolder = calculation.create_folders()\n",
    "    potential_obj.copy_pot_files(simfolder)\n",
    "    #for file in files:\n",
    "    #    shutil.copy(file, simfolder)\n",
    "        \n",
    "    return calculation, simfolder"
   ]
  },
  {
   "cell_type": "code",
   "execution_count": 13,
   "id": "e17ae089-0127-464b-950f-6278a69c7a62",
   "metadata": {},
   "outputs": [],
   "source": [
    "@Workflow.wrap.as_function_node()\n",
    "def RunCalculation(calculation, simfolder):\n",
    "    from calphy import Liquid, Solid\n",
    "    from calphy.routines import routine_alchemy, routine_fe, routine_pscale, routine_ts\n",
    "    #simfolder = calc.create_folders()\n",
    "    if calculation.reference_phase == \"solid\":\n",
    "        job = Solid(calculation=calculation, simfolder=simfolder)\n",
    "    elif calculation.reference_phase == \"liquid\":\n",
    "        job = Liquid(calculation=calculation, simfolder=simfolder)\n",
    "    else:\n",
    "        raise ValueError(\"Unknown reference state\")\n",
    "\n",
    "    if calculation.mode == \"fe\":\n",
    "        routine_fe(job)\n",
    "    elif calculation.mode == \"ts\":\n",
    "        routine_ts(job)\n",
    "    elif calculation.mode == \"pscale\":\n",
    "        routine_pscale(job)\n",
    "    else:\n",
    "        raise ValueError(\"Unknown mode\")\n",
    "    return job.report"
   ]
  },
  {
   "cell_type": "code",
   "execution_count": 14,
   "id": "714151b9-21f2-4018-a6e7-533ac5c517a0",
   "metadata": {},
   "outputs": [],
   "source": [
    "wf = Workflow('test')\n",
    "wf.step1 = obtain_potential('2004--Zhou-X-W--Cu-Ag-Au--LAMMPS--ipr2')\n",
    "wf.step2 = get_structure(a0=3.597, species='Cu', \n",
    "                         cubic=True, repeat=np.array([2,2,2]),\n",
    "                        lattice_type='fcc',\n",
    "                        a2=None)\n",
    "wf.step3 = Initialize(inp, wf.step2.outputs.structure,\n",
    "                     wf.step1.outputs.element_list,\n",
    "                     wf.step1.outputs.files,\n",
    "                     wf.step1.outputs.config)\n",
    "wf.step4 = RunCalculation(wf.step3.outputs.calculation,\n",
    "                         wf.step3.outputs.simfolder)"
   ]
  },
  {
   "cell_type": "code",
   "execution_count": 15,
   "id": "b316cb56-aac8-46cb-9e3c-f78e09069717",
   "metadata": {},
   "outputs": [
    {
     "data": {
      "application/vnd.jupyter.widget-view+json": {
       "model_id": "deea9c9b1bcb4d0eb8d3075fa258d92d",
       "version_major": 2,
       "version_minor": 0
      },
      "text/plain": []
     },
     "metadata": {},
     "output_type": "display_data"
    },
    {
     "name": "stderr",
     "output_type": "stream",
     "text": [
      "/home/srmnitc/miniforge3/envs/workflow-rdf/lib/python3.11/site-packages/ase/io/lammpsdata.py:49: FutureWarning: \"style\" is deprecated; please use \"atom_style\".\n",
      "  warnings.warn(\n"
     ]
    },
    {
     "ename": "UnboundLocalError",
     "evalue": "cannot access local variable 'boxx' where it is not associated with a value",
     "output_type": "error",
     "traceback": [
      "\u001b[0;31m---------------------------------------------------------------------------\u001b[0m",
      "\u001b[0;31mUnboundLocalError\u001b[0m                         Traceback (most recent call last)",
      "Cell \u001b[0;32mIn[15], line 1\u001b[0m\n\u001b[0;32m----> 1\u001b[0m \u001b[43mwf\u001b[49m\u001b[38;5;241;43m.\u001b[39;49m\u001b[43mrun\u001b[49m\u001b[43m(\u001b[49m\u001b[43m)\u001b[49m\n",
      "File \u001b[0;32m~/miniforge3/envs/workflow-rdf/lib/python3.11/site-packages/pyiron_workflow/workflow.py:350\u001b[0m, in \u001b[0;36mWorkflow.run\u001b[0;34m(self, check_readiness, force_local_execution, **kwargs)\u001b[0m\n\u001b[1;32m    348\u001b[0m \u001b[38;5;28;01mif\u001b[39;00m \u001b[38;5;28mself\u001b[39m\u001b[38;5;241m.\u001b[39mautomate_execution:\n\u001b[1;32m    349\u001b[0m     \u001b[38;5;28mself\u001b[39m\u001b[38;5;241m.\u001b[39mset_run_signals_to_dag_execution()\n\u001b[0;32m--> 350\u001b[0m \u001b[38;5;28;01mreturn\u001b[39;00m \u001b[38;5;28;43msuper\u001b[39;49m\u001b[43m(\u001b[49m\u001b[43m)\u001b[49m\u001b[38;5;241;43m.\u001b[39;49m\u001b[43mrun\u001b[49m\u001b[43m(\u001b[49m\n\u001b[1;32m    351\u001b[0m \u001b[43m    \u001b[49m\u001b[43mrun_data_tree\u001b[49m\u001b[38;5;241;43m=\u001b[39;49m\u001b[38;5;28;43;01mFalse\u001b[39;49;00m\u001b[43m,\u001b[49m\n\u001b[1;32m    352\u001b[0m \u001b[43m    \u001b[49m\u001b[43mrun_parent_trees_too\u001b[49m\u001b[38;5;241;43m=\u001b[39;49m\u001b[38;5;28;43;01mFalse\u001b[39;49;00m\u001b[43m,\u001b[49m\n\u001b[1;32m    353\u001b[0m \u001b[43m    \u001b[49m\u001b[43mfetch_input\u001b[49m\u001b[38;5;241;43m=\u001b[39;49m\u001b[38;5;28;43;01mFalse\u001b[39;49;00m\u001b[43m,\u001b[49m\n\u001b[1;32m    354\u001b[0m \u001b[43m    \u001b[49m\u001b[43mcheck_readiness\u001b[49m\u001b[38;5;241;43m=\u001b[39;49m\u001b[43mcheck_readiness\u001b[49m\u001b[43m,\u001b[49m\n\u001b[1;32m    355\u001b[0m \u001b[43m    \u001b[49m\u001b[43mforce_local_execution\u001b[49m\u001b[38;5;241;43m=\u001b[39;49m\u001b[43mforce_local_execution\u001b[49m\u001b[43m,\u001b[49m\n\u001b[1;32m    356\u001b[0m \u001b[43m    \u001b[49m\u001b[43memit_ran_signal\u001b[49m\u001b[38;5;241;43m=\u001b[39;49m\u001b[38;5;28;43;01mFalse\u001b[39;49;00m\u001b[43m,\u001b[49m\n\u001b[1;32m    357\u001b[0m \u001b[43m    \u001b[49m\u001b[38;5;241;43m*\u001b[39;49m\u001b[38;5;241;43m*\u001b[39;49m\u001b[43mkwargs\u001b[49m\u001b[43m,\u001b[49m\n\u001b[1;32m    358\u001b[0m \u001b[43m\u001b[49m\u001b[43m)\u001b[49m\n",
      "File \u001b[0;32m~/miniforge3/envs/workflow-rdf/lib/python3.11/site-packages/pyiron_workflow/node.py:454\u001b[0m, in \u001b[0;36mNode.run\u001b[0;34m(self, run_data_tree, run_parent_trees_too, fetch_input, check_readiness, force_local_execution, emit_ran_signal, *args, **kwargs)\u001b[0m\n\u001b[1;32m    451\u001b[0m \u001b[38;5;28;01mif\u001b[39;00m \u001b[38;5;28mself\u001b[39m\u001b[38;5;241m.\u001b[39mparent \u001b[38;5;129;01mis\u001b[39;00m \u001b[38;5;129;01mnot\u001b[39;00m \u001b[38;5;28;01mNone\u001b[39;00m:\n\u001b[1;32m    452\u001b[0m     \u001b[38;5;28mself\u001b[39m\u001b[38;5;241m.\u001b[39mparent\u001b[38;5;241m.\u001b[39mregister_child_starting(\u001b[38;5;28mself\u001b[39m)\n\u001b[0;32m--> 454\u001b[0m \u001b[38;5;28;01mreturn\u001b[39;00m \u001b[38;5;28;43msuper\u001b[39;49m\u001b[43m(\u001b[49m\u001b[43m)\u001b[49m\u001b[38;5;241;43m.\u001b[39;49m\u001b[43mrun\u001b[49m\u001b[43m(\u001b[49m\n\u001b[1;32m    455\u001b[0m \u001b[43m    \u001b[49m\u001b[43mcheck_readiness\u001b[49m\u001b[38;5;241;43m=\u001b[39;49m\u001b[43mcheck_readiness\u001b[49m\u001b[43m,\u001b[49m\n\u001b[1;32m    456\u001b[0m \u001b[43m    \u001b[49m\u001b[43mforce_local_execution\u001b[49m\u001b[38;5;241;43m=\u001b[39;49m\u001b[43mforce_local_execution\u001b[49m\u001b[43m,\u001b[49m\n\u001b[1;32m    457\u001b[0m \u001b[43m    \u001b[49m\u001b[43m_finished_callback\u001b[49m\u001b[38;5;241;43m=\u001b[39;49m\u001b[43m(\u001b[49m\n\u001b[1;32m    458\u001b[0m \u001b[43m        \u001b[49m\u001b[38;5;28;43mself\u001b[39;49m\u001b[38;5;241;43m.\u001b[39;49m\u001b[43m_finish_run_and_emit_ran\u001b[49m\u001b[43m \u001b[49m\u001b[38;5;28;43;01mif\u001b[39;49;00m\u001b[43m \u001b[49m\u001b[43memit_ran_signal\u001b[49m\u001b[43m \u001b[49m\u001b[38;5;28;43;01melse\u001b[39;49;00m\u001b[43m \u001b[49m\u001b[38;5;28;43mself\u001b[39;49m\u001b[38;5;241;43m.\u001b[39;49m\u001b[43m_finish_run\u001b[49m\n\u001b[1;32m    459\u001b[0m \u001b[43m    \u001b[49m\u001b[43m)\u001b[49m\u001b[43m,\u001b[49m\n\u001b[1;32m    460\u001b[0m \u001b[43m\u001b[49m\u001b[43m)\u001b[49m\n",
      "File \u001b[0;32m~/miniforge3/envs/workflow-rdf/lib/python3.11/site-packages/pyiron_workflow/mixin/run.py:151\u001b[0m, in \u001b[0;36mRunnable.run\u001b[0;34m(self, check_readiness, force_local_execution, _finished_callback)\u001b[0m\n\u001b[1;32m    149\u001b[0m \u001b[38;5;28;01mif\u001b[39;00m check_readiness \u001b[38;5;129;01mand\u001b[39;00m \u001b[38;5;129;01mnot\u001b[39;00m \u001b[38;5;28mself\u001b[39m\u001b[38;5;241m.\u001b[39mready:\n\u001b[1;32m    150\u001b[0m     \u001b[38;5;28;01mraise\u001b[39;00m ReadinessError(\u001b[38;5;28mself\u001b[39m\u001b[38;5;241m.\u001b[39m_readiness_error_message)\n\u001b[0;32m--> 151\u001b[0m \u001b[38;5;28;01mreturn\u001b[39;00m \u001b[38;5;28;43mself\u001b[39;49m\u001b[38;5;241;43m.\u001b[39;49m\u001b[43m_run\u001b[49m\u001b[43m(\u001b[49m\n\u001b[1;32m    152\u001b[0m \u001b[43m    \u001b[49m\u001b[43mfinished_callback\u001b[49m\u001b[38;5;241;43m=\u001b[39;49m\u001b[43m(\u001b[49m\n\u001b[1;32m    153\u001b[0m \u001b[43m        \u001b[49m\u001b[38;5;28;43mself\u001b[39;49m\u001b[38;5;241;43m.\u001b[39;49m\u001b[43m_finish_run\u001b[49m\u001b[43m \u001b[49m\u001b[38;5;28;43;01mif\u001b[39;49;00m\u001b[43m \u001b[49m\u001b[43m_finished_callback\u001b[49m\u001b[43m \u001b[49m\u001b[38;5;129;43;01mis\u001b[39;49;00m\u001b[43m \u001b[49m\u001b[38;5;28;43;01mNone\u001b[39;49;00m\u001b[43m \u001b[49m\u001b[38;5;28;43;01melse\u001b[39;49;00m\u001b[43m \u001b[49m\u001b[43m_finished_callback\u001b[49m\n\u001b[1;32m    154\u001b[0m \u001b[43m    \u001b[49m\u001b[43m)\u001b[49m\u001b[43m,\u001b[49m\n\u001b[1;32m    155\u001b[0m \u001b[43m    \u001b[49m\u001b[43mforce_local_execution\u001b[49m\u001b[38;5;241;43m=\u001b[39;49m\u001b[43mforce_local_execution\u001b[49m\u001b[43m,\u001b[49m\n\u001b[1;32m    156\u001b[0m \u001b[43m\u001b[49m\u001b[43m)\u001b[49m\n",
      "File \u001b[0;32m~/miniforge3/envs/workflow-rdf/lib/python3.11/site-packages/pyiron_workflow/mixin/run.py:34\u001b[0m, in \u001b[0;36mmanage_status.<locals>.wrapped_method\u001b[0;34m(runnable, *args, **kwargs)\u001b[0m\n\u001b[1;32m     32\u001b[0m     runnable\u001b[38;5;241m.\u001b[39mfailed \u001b[38;5;241m=\u001b[39m \u001b[38;5;28;01mTrue\u001b[39;00m\n\u001b[1;32m     33\u001b[0m     out \u001b[38;5;241m=\u001b[39m \u001b[38;5;28;01mNone\u001b[39;00m\n\u001b[0;32m---> 34\u001b[0m     \u001b[38;5;28;01mraise\u001b[39;00m e\n\u001b[1;32m     35\u001b[0m \u001b[38;5;28;01mfinally\u001b[39;00m:\n\u001b[1;32m     36\u001b[0m     \u001b[38;5;66;03m# Leave the status as running if the method returns a future\u001b[39;00m\n\u001b[1;32m     37\u001b[0m     runnable\u001b[38;5;241m.\u001b[39mrunning \u001b[38;5;241m=\u001b[39m \u001b[38;5;28misinstance\u001b[39m(out, Future)\n",
      "File \u001b[0;32m~/miniforge3/envs/workflow-rdf/lib/python3.11/site-packages/pyiron_workflow/mixin/run.py:29\u001b[0m, in \u001b[0;36mmanage_status.<locals>.wrapped_method\u001b[0;34m(runnable, *args, **kwargs)\u001b[0m\n\u001b[1;32m     27\u001b[0m runnable\u001b[38;5;241m.\u001b[39mrunning \u001b[38;5;241m=\u001b[39m \u001b[38;5;28;01mTrue\u001b[39;00m\n\u001b[1;32m     28\u001b[0m \u001b[38;5;28;01mtry\u001b[39;00m:\n\u001b[0;32m---> 29\u001b[0m     out \u001b[38;5;241m=\u001b[39m \u001b[43mstatus_managed_method\u001b[49m\u001b[43m(\u001b[49m\u001b[43mrunnable\u001b[49m\u001b[43m,\u001b[49m\u001b[43m \u001b[49m\u001b[38;5;241;43m*\u001b[39;49m\u001b[43margs\u001b[49m\u001b[43m,\u001b[49m\u001b[43m \u001b[49m\u001b[38;5;241;43m*\u001b[39;49m\u001b[38;5;241;43m*\u001b[39;49m\u001b[43mkwargs\u001b[49m\u001b[43m)\u001b[49m\n\u001b[1;32m     30\u001b[0m     \u001b[38;5;28;01mreturn\u001b[39;00m out\n\u001b[1;32m     31\u001b[0m \u001b[38;5;28;01mexcept\u001b[39;00m \u001b[38;5;167;01mException\u001b[39;00m \u001b[38;5;28;01mas\u001b[39;00m e:\n",
      "File \u001b[0;32m~/miniforge3/envs/workflow-rdf/lib/python3.11/site-packages/pyiron_workflow/mixin/run.py:179\u001b[0m, in \u001b[0;36mRunnable._run\u001b[0;34m(self, finished_callback, force_local_execution)\u001b[0m\n\u001b[1;32m    173\u001b[0m     \u001b[38;5;28;01mraise\u001b[39;00m \u001b[38;5;167;01mValueError\u001b[39;00m(\n\u001b[1;32m    174\u001b[0m         \u001b[38;5;124mf\u001b[39m\u001b[38;5;124m\"\u001b[39m\u001b[38;5;132;01m{\u001b[39;00m\u001b[38;5;28mself\u001b[39m\u001b[38;5;241m.\u001b[39mlabel\u001b[38;5;132;01m}\u001b[39;00m\u001b[38;5;124m got \u001b[39m\u001b[38;5;124m'\u001b[39m\u001b[38;5;124mself\u001b[39m\u001b[38;5;124m'\u001b[39m\u001b[38;5;124m as a run kwarg, but self is already the \u001b[39m\u001b[38;5;124m\"\u001b[39m\n\u001b[1;32m    175\u001b[0m         \u001b[38;5;124mf\u001b[39m\u001b[38;5;124m\"\u001b[39m\u001b[38;5;124mfirst positional argument passed to :meth:`on_run`.\u001b[39m\u001b[38;5;124m\"\u001b[39m\n\u001b[1;32m    176\u001b[0m     )\n\u001b[1;32m    177\u001b[0m \u001b[38;5;28;01mif\u001b[39;00m force_local_execution \u001b[38;5;129;01mor\u001b[39;00m \u001b[38;5;28mself\u001b[39m\u001b[38;5;241m.\u001b[39mexecutor \u001b[38;5;129;01mis\u001b[39;00m \u001b[38;5;28;01mNone\u001b[39;00m:\n\u001b[1;32m    178\u001b[0m     \u001b[38;5;66;03m# Run locally\u001b[39;00m\n\u001b[0;32m--> 179\u001b[0m     run_output \u001b[38;5;241m=\u001b[39m \u001b[38;5;28;43mself\u001b[39;49m\u001b[38;5;241;43m.\u001b[39;49m\u001b[43mon_run\u001b[49m\u001b[43m(\u001b[49m\u001b[38;5;241;43m*\u001b[39;49m\u001b[43margs\u001b[49m\u001b[43m,\u001b[49m\u001b[43m \u001b[49m\u001b[38;5;241;43m*\u001b[39;49m\u001b[38;5;241;43m*\u001b[39;49m\u001b[43mkwargs\u001b[49m\u001b[43m)\u001b[49m\n\u001b[1;32m    180\u001b[0m     \u001b[38;5;28;01mreturn\u001b[39;00m finished_callback(run_output)\n\u001b[1;32m    181\u001b[0m \u001b[38;5;28;01melse\u001b[39;00m:\n\u001b[1;32m    182\u001b[0m     \u001b[38;5;66;03m# Just blindly try to execute -- as we nail down the executor interaction\u001b[39;00m\n\u001b[1;32m    183\u001b[0m     \u001b[38;5;66;03m# we'll want to fail more cleanly here.\u001b[39;00m\n",
      "File \u001b[0;32m~/miniforge3/envs/workflow-rdf/lib/python3.11/site-packages/pyiron_workflow/nodes/composite.py:153\u001b[0m, in \u001b[0;36mComposite.on_run\u001b[0;34m(self)\u001b[0m\n\u001b[1;32m    151\u001b[0m \u001b[38;5;28;01mtry\u001b[39;00m:\n\u001b[1;32m    152\u001b[0m     firing, receiving \u001b[38;5;241m=\u001b[39m \u001b[38;5;28mself\u001b[39m\u001b[38;5;241m.\u001b[39msignal_queue\u001b[38;5;241m.\u001b[39mpop(\u001b[38;5;241m0\u001b[39m)\n\u001b[0;32m--> 153\u001b[0m     \u001b[43mreceiving\u001b[49m\u001b[43m(\u001b[49m\u001b[43mfiring\u001b[49m\u001b[43m)\u001b[49m\n\u001b[1;32m    154\u001b[0m \u001b[38;5;28;01mexcept\u001b[39;00m \u001b[38;5;167;01mIndexError\u001b[39;00m:\n\u001b[1;32m    155\u001b[0m     \u001b[38;5;66;03m# The signal queue is empty, but there is still someone running...\u001b[39;00m\n\u001b[1;32m    156\u001b[0m     sleep(\u001b[38;5;28mself\u001b[39m\u001b[38;5;241m.\u001b[39m_child_sleep_interval)\n",
      "File \u001b[0;32m~/miniforge3/envs/workflow-rdf/lib/python3.11/site-packages/pyiron_workflow/channels.py:659\u001b[0m, in \u001b[0;36mAccumulatingInputSignal.__call__\u001b[0;34m(self, other)\u001b[0m\n\u001b[1;32m    650\u001b[0m \u001b[38;5;28;01mif\u001b[39;00m (\n\u001b[1;32m    651\u001b[0m     \u001b[38;5;28mlen\u001b[39m(\n\u001b[1;32m    652\u001b[0m         \u001b[38;5;28mset\u001b[39m(c\u001b[38;5;241m.\u001b[39mscoped_label \u001b[38;5;28;01mfor\u001b[39;00m c \u001b[38;5;129;01min\u001b[39;00m \u001b[38;5;28mself\u001b[39m\u001b[38;5;241m.\u001b[39mconnections)\u001b[38;5;241m.\u001b[39mdifference(\n\u001b[0;32m   (...)\u001b[0m\n\u001b[1;32m    656\u001b[0m     \u001b[38;5;241m==\u001b[39m \u001b[38;5;241m0\u001b[39m\n\u001b[1;32m    657\u001b[0m ):\n\u001b[1;32m    658\u001b[0m     \u001b[38;5;28mself\u001b[39m\u001b[38;5;241m.\u001b[39mreset()\n\u001b[0;32m--> 659\u001b[0m     \u001b[38;5;28;43mself\u001b[39;49m\u001b[38;5;241;43m.\u001b[39;49m\u001b[43mcallback\u001b[49m\u001b[43m(\u001b[49m\u001b[43m)\u001b[49m\n",
      "File \u001b[0;32m~/miniforge3/envs/workflow-rdf/lib/python3.11/site-packages/pyiron_workflow/node.py:454\u001b[0m, in \u001b[0;36mNode.run\u001b[0;34m(self, run_data_tree, run_parent_trees_too, fetch_input, check_readiness, force_local_execution, emit_ran_signal, *args, **kwargs)\u001b[0m\n\u001b[1;32m    451\u001b[0m \u001b[38;5;28;01mif\u001b[39;00m \u001b[38;5;28mself\u001b[39m\u001b[38;5;241m.\u001b[39mparent \u001b[38;5;129;01mis\u001b[39;00m \u001b[38;5;129;01mnot\u001b[39;00m \u001b[38;5;28;01mNone\u001b[39;00m:\n\u001b[1;32m    452\u001b[0m     \u001b[38;5;28mself\u001b[39m\u001b[38;5;241m.\u001b[39mparent\u001b[38;5;241m.\u001b[39mregister_child_starting(\u001b[38;5;28mself\u001b[39m)\n\u001b[0;32m--> 454\u001b[0m \u001b[38;5;28;01mreturn\u001b[39;00m \u001b[38;5;28;43msuper\u001b[39;49m\u001b[43m(\u001b[49m\u001b[43m)\u001b[49m\u001b[38;5;241;43m.\u001b[39;49m\u001b[43mrun\u001b[49m\u001b[43m(\u001b[49m\n\u001b[1;32m    455\u001b[0m \u001b[43m    \u001b[49m\u001b[43mcheck_readiness\u001b[49m\u001b[38;5;241;43m=\u001b[39;49m\u001b[43mcheck_readiness\u001b[49m\u001b[43m,\u001b[49m\n\u001b[1;32m    456\u001b[0m \u001b[43m    \u001b[49m\u001b[43mforce_local_execution\u001b[49m\u001b[38;5;241;43m=\u001b[39;49m\u001b[43mforce_local_execution\u001b[49m\u001b[43m,\u001b[49m\n\u001b[1;32m    457\u001b[0m \u001b[43m    \u001b[49m\u001b[43m_finished_callback\u001b[49m\u001b[38;5;241;43m=\u001b[39;49m\u001b[43m(\u001b[49m\n\u001b[1;32m    458\u001b[0m \u001b[43m        \u001b[49m\u001b[38;5;28;43mself\u001b[39;49m\u001b[38;5;241;43m.\u001b[39;49m\u001b[43m_finish_run_and_emit_ran\u001b[49m\u001b[43m \u001b[49m\u001b[38;5;28;43;01mif\u001b[39;49;00m\u001b[43m \u001b[49m\u001b[43memit_ran_signal\u001b[49m\u001b[43m \u001b[49m\u001b[38;5;28;43;01melse\u001b[39;49;00m\u001b[43m \u001b[49m\u001b[38;5;28;43mself\u001b[39;49m\u001b[38;5;241;43m.\u001b[39;49m\u001b[43m_finish_run\u001b[49m\n\u001b[1;32m    459\u001b[0m \u001b[43m    \u001b[49m\u001b[43m)\u001b[49m\u001b[43m,\u001b[49m\n\u001b[1;32m    460\u001b[0m \u001b[43m\u001b[49m\u001b[43m)\u001b[49m\n",
      "File \u001b[0;32m~/miniforge3/envs/workflow-rdf/lib/python3.11/site-packages/pyiron_workflow/mixin/run.py:151\u001b[0m, in \u001b[0;36mRunnable.run\u001b[0;34m(self, check_readiness, force_local_execution, _finished_callback)\u001b[0m\n\u001b[1;32m    149\u001b[0m \u001b[38;5;28;01mif\u001b[39;00m check_readiness \u001b[38;5;129;01mand\u001b[39;00m \u001b[38;5;129;01mnot\u001b[39;00m \u001b[38;5;28mself\u001b[39m\u001b[38;5;241m.\u001b[39mready:\n\u001b[1;32m    150\u001b[0m     \u001b[38;5;28;01mraise\u001b[39;00m ReadinessError(\u001b[38;5;28mself\u001b[39m\u001b[38;5;241m.\u001b[39m_readiness_error_message)\n\u001b[0;32m--> 151\u001b[0m \u001b[38;5;28;01mreturn\u001b[39;00m \u001b[38;5;28;43mself\u001b[39;49m\u001b[38;5;241;43m.\u001b[39;49m\u001b[43m_run\u001b[49m\u001b[43m(\u001b[49m\n\u001b[1;32m    152\u001b[0m \u001b[43m    \u001b[49m\u001b[43mfinished_callback\u001b[49m\u001b[38;5;241;43m=\u001b[39;49m\u001b[43m(\u001b[49m\n\u001b[1;32m    153\u001b[0m \u001b[43m        \u001b[49m\u001b[38;5;28;43mself\u001b[39;49m\u001b[38;5;241;43m.\u001b[39;49m\u001b[43m_finish_run\u001b[49m\u001b[43m \u001b[49m\u001b[38;5;28;43;01mif\u001b[39;49;00m\u001b[43m \u001b[49m\u001b[43m_finished_callback\u001b[49m\u001b[43m \u001b[49m\u001b[38;5;129;43;01mis\u001b[39;49;00m\u001b[43m \u001b[49m\u001b[38;5;28;43;01mNone\u001b[39;49;00m\u001b[43m \u001b[49m\u001b[38;5;28;43;01melse\u001b[39;49;00m\u001b[43m \u001b[49m\u001b[43m_finished_callback\u001b[49m\n\u001b[1;32m    154\u001b[0m \u001b[43m    \u001b[49m\u001b[43m)\u001b[49m\u001b[43m,\u001b[49m\n\u001b[1;32m    155\u001b[0m \u001b[43m    \u001b[49m\u001b[43mforce_local_execution\u001b[49m\u001b[38;5;241;43m=\u001b[39;49m\u001b[43mforce_local_execution\u001b[49m\u001b[43m,\u001b[49m\n\u001b[1;32m    156\u001b[0m \u001b[43m\u001b[49m\u001b[43m)\u001b[49m\n",
      "File \u001b[0;32m~/miniforge3/envs/workflow-rdf/lib/python3.11/site-packages/pyiron_workflow/mixin/run.py:34\u001b[0m, in \u001b[0;36mmanage_status.<locals>.wrapped_method\u001b[0;34m(runnable, *args, **kwargs)\u001b[0m\n\u001b[1;32m     32\u001b[0m     runnable\u001b[38;5;241m.\u001b[39mfailed \u001b[38;5;241m=\u001b[39m \u001b[38;5;28;01mTrue\u001b[39;00m\n\u001b[1;32m     33\u001b[0m     out \u001b[38;5;241m=\u001b[39m \u001b[38;5;28;01mNone\u001b[39;00m\n\u001b[0;32m---> 34\u001b[0m     \u001b[38;5;28;01mraise\u001b[39;00m e\n\u001b[1;32m     35\u001b[0m \u001b[38;5;28;01mfinally\u001b[39;00m:\n\u001b[1;32m     36\u001b[0m     \u001b[38;5;66;03m# Leave the status as running if the method returns a future\u001b[39;00m\n\u001b[1;32m     37\u001b[0m     runnable\u001b[38;5;241m.\u001b[39mrunning \u001b[38;5;241m=\u001b[39m \u001b[38;5;28misinstance\u001b[39m(out, Future)\n",
      "File \u001b[0;32m~/miniforge3/envs/workflow-rdf/lib/python3.11/site-packages/pyiron_workflow/mixin/run.py:29\u001b[0m, in \u001b[0;36mmanage_status.<locals>.wrapped_method\u001b[0;34m(runnable, *args, **kwargs)\u001b[0m\n\u001b[1;32m     27\u001b[0m runnable\u001b[38;5;241m.\u001b[39mrunning \u001b[38;5;241m=\u001b[39m \u001b[38;5;28;01mTrue\u001b[39;00m\n\u001b[1;32m     28\u001b[0m \u001b[38;5;28;01mtry\u001b[39;00m:\n\u001b[0;32m---> 29\u001b[0m     out \u001b[38;5;241m=\u001b[39m \u001b[43mstatus_managed_method\u001b[49m\u001b[43m(\u001b[49m\u001b[43mrunnable\u001b[49m\u001b[43m,\u001b[49m\u001b[43m \u001b[49m\u001b[38;5;241;43m*\u001b[39;49m\u001b[43margs\u001b[49m\u001b[43m,\u001b[49m\u001b[43m \u001b[49m\u001b[38;5;241;43m*\u001b[39;49m\u001b[38;5;241;43m*\u001b[39;49m\u001b[43mkwargs\u001b[49m\u001b[43m)\u001b[49m\n\u001b[1;32m     30\u001b[0m     \u001b[38;5;28;01mreturn\u001b[39;00m out\n\u001b[1;32m     31\u001b[0m \u001b[38;5;28;01mexcept\u001b[39;00m \u001b[38;5;167;01mException\u001b[39;00m \u001b[38;5;28;01mas\u001b[39;00m e:\n",
      "File \u001b[0;32m~/miniforge3/envs/workflow-rdf/lib/python3.11/site-packages/pyiron_workflow/mixin/run.py:179\u001b[0m, in \u001b[0;36mRunnable._run\u001b[0;34m(self, finished_callback, force_local_execution)\u001b[0m\n\u001b[1;32m    173\u001b[0m     \u001b[38;5;28;01mraise\u001b[39;00m \u001b[38;5;167;01mValueError\u001b[39;00m(\n\u001b[1;32m    174\u001b[0m         \u001b[38;5;124mf\u001b[39m\u001b[38;5;124m\"\u001b[39m\u001b[38;5;132;01m{\u001b[39;00m\u001b[38;5;28mself\u001b[39m\u001b[38;5;241m.\u001b[39mlabel\u001b[38;5;132;01m}\u001b[39;00m\u001b[38;5;124m got \u001b[39m\u001b[38;5;124m'\u001b[39m\u001b[38;5;124mself\u001b[39m\u001b[38;5;124m'\u001b[39m\u001b[38;5;124m as a run kwarg, but self is already the \u001b[39m\u001b[38;5;124m\"\u001b[39m\n\u001b[1;32m    175\u001b[0m         \u001b[38;5;124mf\u001b[39m\u001b[38;5;124m\"\u001b[39m\u001b[38;5;124mfirst positional argument passed to :meth:`on_run`.\u001b[39m\u001b[38;5;124m\"\u001b[39m\n\u001b[1;32m    176\u001b[0m     )\n\u001b[1;32m    177\u001b[0m \u001b[38;5;28;01mif\u001b[39;00m force_local_execution \u001b[38;5;129;01mor\u001b[39;00m \u001b[38;5;28mself\u001b[39m\u001b[38;5;241m.\u001b[39mexecutor \u001b[38;5;129;01mis\u001b[39;00m \u001b[38;5;28;01mNone\u001b[39;00m:\n\u001b[1;32m    178\u001b[0m     \u001b[38;5;66;03m# Run locally\u001b[39;00m\n\u001b[0;32m--> 179\u001b[0m     run_output \u001b[38;5;241m=\u001b[39m \u001b[38;5;28;43mself\u001b[39;49m\u001b[38;5;241;43m.\u001b[39;49m\u001b[43mon_run\u001b[49m\u001b[43m(\u001b[49m\u001b[38;5;241;43m*\u001b[39;49m\u001b[43margs\u001b[49m\u001b[43m,\u001b[49m\u001b[43m \u001b[49m\u001b[38;5;241;43m*\u001b[39;49m\u001b[38;5;241;43m*\u001b[39;49m\u001b[43mkwargs\u001b[49m\u001b[43m)\u001b[49m\n\u001b[1;32m    180\u001b[0m     \u001b[38;5;28;01mreturn\u001b[39;00m finished_callback(run_output)\n\u001b[1;32m    181\u001b[0m \u001b[38;5;28;01melse\u001b[39;00m:\n\u001b[1;32m    182\u001b[0m     \u001b[38;5;66;03m# Just blindly try to execute -- as we nail down the executor interaction\u001b[39;00m\n\u001b[1;32m    183\u001b[0m     \u001b[38;5;66;03m# we'll want to fail more cleanly here.\u001b[39;00m\n",
      "File \u001b[0;32m~/miniforge3/envs/workflow-rdf/lib/python3.11/site-packages/pyiron_workflow/nodes/function.py:317\u001b[0m, in \u001b[0;36mFunction.on_run\u001b[0;34m(self, **kwargs)\u001b[0m\n\u001b[1;32m    316\u001b[0m \u001b[38;5;28;01mdef\u001b[39;00m \u001b[38;5;21mon_run\u001b[39m(\u001b[38;5;28mself\u001b[39m, \u001b[38;5;241m*\u001b[39m\u001b[38;5;241m*\u001b[39mkwargs):\n\u001b[0;32m--> 317\u001b[0m     \u001b[38;5;28;01mreturn\u001b[39;00m \u001b[38;5;28;43mself\u001b[39;49m\u001b[38;5;241;43m.\u001b[39;49m\u001b[43mnode_function\u001b[49m\u001b[43m(\u001b[49m\u001b[38;5;241;43m*\u001b[39;49m\u001b[38;5;241;43m*\u001b[39;49m\u001b[43mkwargs\u001b[49m\u001b[43m)\u001b[49m\n",
      "Cell \u001b[0;32mIn[13], line 14\u001b[0m, in \u001b[0;36mRunCalculation\u001b[0;34m(calculation, simfolder)\u001b[0m\n\u001b[1;32m     11\u001b[0m     \u001b[38;5;28;01mraise\u001b[39;00m \u001b[38;5;167;01mValueError\u001b[39;00m(\u001b[38;5;124m\"\u001b[39m\u001b[38;5;124mUnknown reference state\u001b[39m\u001b[38;5;124m\"\u001b[39m)\n\u001b[1;32m     13\u001b[0m \u001b[38;5;28;01mif\u001b[39;00m calculation\u001b[38;5;241m.\u001b[39mmode \u001b[38;5;241m==\u001b[39m \u001b[38;5;124m\"\u001b[39m\u001b[38;5;124mfe\u001b[39m\u001b[38;5;124m\"\u001b[39m:\n\u001b[0;32m---> 14\u001b[0m     \u001b[43mroutine_fe\u001b[49m\u001b[43m(\u001b[49m\u001b[43mjob\u001b[49m\u001b[43m)\u001b[49m\n\u001b[1;32m     15\u001b[0m \u001b[38;5;28;01melif\u001b[39;00m calculation\u001b[38;5;241m.\u001b[39mmode \u001b[38;5;241m==\u001b[39m \u001b[38;5;124m\"\u001b[39m\u001b[38;5;124mts\u001b[39m\u001b[38;5;124m\"\u001b[39m:\n\u001b[1;32m     16\u001b[0m     routine_ts(job)\n",
      "File \u001b[0;32m~/miniforge3/envs/workflow-rdf/lib/python3.11/site-packages/calphy/routines.py:328\u001b[0m, in \u001b[0;36mroutine_fe\u001b[0;34m(job)\u001b[0m\n\u001b[1;32m    324\u001b[0m \u001b[38;5;250m\u001b[39m\u001b[38;5;124;03m\"\"\"\u001b[39;00m\n\u001b[1;32m    325\u001b[0m \u001b[38;5;124;03mPerform an FE calculation routine\u001b[39;00m\n\u001b[1;32m    326\u001b[0m \u001b[38;5;124;03m\"\"\"\u001b[39;00m\n\u001b[1;32m    327\u001b[0m ts \u001b[38;5;241m=\u001b[39m time\u001b[38;5;241m.\u001b[39mtime()\n\u001b[0;32m--> 328\u001b[0m \u001b[43mjob\u001b[49m\u001b[38;5;241;43m.\u001b[39;49m\u001b[43mrun_averaging\u001b[49m\u001b[43m(\u001b[49m\u001b[43m)\u001b[49m\n\u001b[1;32m    329\u001b[0m te \u001b[38;5;241m=\u001b[39m (time\u001b[38;5;241m.\u001b[39mtime() \u001b[38;5;241m-\u001b[39m ts)\n\u001b[1;32m    330\u001b[0m job\u001b[38;5;241m.\u001b[39mlogger\u001b[38;5;241m.\u001b[39minfo(\u001b[38;5;124m\"\u001b[39m\u001b[38;5;124mAveraging routine finished in \u001b[39m\u001b[38;5;132;01m%f\u001b[39;00m\u001b[38;5;124m s\u001b[39m\u001b[38;5;124m\"\u001b[39m\u001b[38;5;241m%\u001b[39mte)\n",
      "File \u001b[0;32m~/miniforge3/envs/workflow-rdf/lib/python3.11/site-packages/calphy/solid.py:188\u001b[0m, in \u001b[0;36mSolid.run_averaging\u001b[0;34m(self)\u001b[0m\n\u001b[1;32m    186\u001b[0m     \u001b[38;5;28mself\u001b[39m\u001b[38;5;241m.\u001b[39mrun_minimal_averaging()\n\u001b[1;32m    187\u001b[0m \u001b[38;5;28;01melse\u001b[39;00m:\n\u001b[0;32m--> 188\u001b[0m     \u001b[38;5;28;43mself\u001b[39;49m\u001b[38;5;241;43m.\u001b[39;49m\u001b[43mrun_interactive_averaging\u001b[49m\u001b[43m(\u001b[49m\u001b[43m)\u001b[49m\n",
      "File \u001b[0;32m~/miniforge3/envs/workflow-rdf/lib/python3.11/site-packages/calphy/solid.py:251\u001b[0m, in \u001b[0;36mSolid.run_interactive_averaging\u001b[0;34m(self)\u001b[0m\n\u001b[1;32m    249\u001b[0m     \u001b[38;5;66;03m#dump snapshot and check if melted\u001b[39;00m\n\u001b[1;32m    250\u001b[0m     \u001b[38;5;28mself\u001b[39m\u001b[38;5;241m.\u001b[39mdump_current_snapshot(lmp, \u001b[38;5;124m\"\u001b[39m\u001b[38;5;124mtraj.equilibration_stage1.dat\u001b[39m\u001b[38;5;124m\"\u001b[39m)\n\u001b[0;32m--> 251\u001b[0m     \u001b[38;5;28;43mself\u001b[39;49m\u001b[38;5;241;43m.\u001b[39;49m\u001b[43mcheck_if_melted\u001b[49m\u001b[43m(\u001b[49m\u001b[43mlmp\u001b[49m\u001b[43m,\u001b[49m\u001b[43m \u001b[49m\u001b[38;5;124;43m\"\u001b[39;49m\u001b[38;5;124;43mtraj.equilibration_stage1.dat\u001b[39;49m\u001b[38;5;124;43m\"\u001b[39;49m\u001b[43m)\u001b[49m\n\u001b[1;32m    253\u001b[0m \u001b[38;5;66;03m#run if a constrained lattice is used\u001b[39;00m\n\u001b[1;32m    254\u001b[0m \u001b[38;5;28;01melse\u001b[39;00m:\n\u001b[1;32m    255\u001b[0m     \u001b[38;5;66;03m#routine in which lattice constant will not varied, but is set to a given fixed value\u001b[39;00m\n\u001b[1;32m    256\u001b[0m     \u001b[38;5;28mself\u001b[39m\u001b[38;5;241m.\u001b[39mrun_constrained_pressure_convergence(lmp)\n",
      "File \u001b[0;32m~/miniforge3/envs/workflow-rdf/lib/python3.11/site-packages/calphy/phase.py:238\u001b[0m, in \u001b[0;36mPhase.check_if_melted\u001b[0;34m(self, lmp, filename)\u001b[0m\n\u001b[1;32m    235\u001b[0m \u001b[38;5;28;01mdef\u001b[39;00m \u001b[38;5;21mcheck_if_melted\u001b[39m(\u001b[38;5;28mself\u001b[39m, lmp, filename):\n\u001b[1;32m    236\u001b[0m \u001b[38;5;250m    \u001b[39m\u001b[38;5;124;03m\"\"\"\u001b[39;00m\n\u001b[1;32m    237\u001b[0m \u001b[38;5;124;03m    \"\"\"\u001b[39;00m\n\u001b[0;32m--> 238\u001b[0m     solids \u001b[38;5;241m=\u001b[39m \u001b[43mph\u001b[49m\u001b[38;5;241;43m.\u001b[39;49m\u001b[43mfind_solid_fraction\u001b[49m\u001b[43m(\u001b[49m\u001b[43mos\u001b[49m\u001b[38;5;241;43m.\u001b[39;49m\u001b[43mpath\u001b[49m\u001b[38;5;241;43m.\u001b[39;49m\u001b[43mjoin\u001b[49m\u001b[43m(\u001b[49m\u001b[38;5;28;43mself\u001b[39;49m\u001b[38;5;241;43m.\u001b[39;49m\u001b[43msimfolder\u001b[49m\u001b[43m,\u001b[49m\u001b[43m \u001b[49m\u001b[43mfilename\u001b[49m\u001b[43m)\u001b[49m\u001b[43m)\u001b[49m\n\u001b[1;32m    239\u001b[0m     \u001b[38;5;28;01mif\u001b[39;00m (solids\u001b[38;5;241m/\u001b[39mlmp\u001b[38;5;241m.\u001b[39mnatoms \u001b[38;5;241m<\u001b[39m \u001b[38;5;28mself\u001b[39m\u001b[38;5;241m.\u001b[39mcalc\u001b[38;5;241m.\u001b[39mtolerance\u001b[38;5;241m.\u001b[39msolid_fraction):\n\u001b[1;32m    240\u001b[0m         lmp\u001b[38;5;241m.\u001b[39mclose()\n",
      "File \u001b[0;32m~/miniforge3/envs/workflow-rdf/lib/python3.11/site-packages/calphy/helpers.py:205\u001b[0m, in \u001b[0;36mfind_solid_fraction\u001b[0;34m(file)\u001b[0m\n\u001b[1;32m    204\u001b[0m \u001b[38;5;28;01mdef\u001b[39;00m \u001b[38;5;21mfind_solid_fraction\u001b[39m(file):\n\u001b[0;32m--> 205\u001b[0m     sys \u001b[38;5;241m=\u001b[39m \u001b[43mpc\u001b[49m\u001b[38;5;241;43m.\u001b[39;49m\u001b[43mSystem\u001b[49m\u001b[43m(\u001b[49m\u001b[43mfile\u001b[49m\u001b[43m)\u001b[49m\n\u001b[1;32m    206\u001b[0m     \u001b[38;5;28;01mtry\u001b[39;00m:\n\u001b[1;32m    207\u001b[0m         sys\u001b[38;5;241m.\u001b[39mfind\u001b[38;5;241m.\u001b[39mneighbors(method\u001b[38;5;241m=\u001b[39m\u001b[38;5;124m\"\u001b[39m\u001b[38;5;124mcutoff\u001b[39m\u001b[38;5;124m\"\u001b[39m, cutoff\u001b[38;5;241m=\u001b[39m\u001b[38;5;241m0\u001b[39m)\n",
      "File \u001b[0;32m~/miniforge3/envs/workflow-rdf/lib/python3.11/site-packages/pyscal3/core.py:174\u001b[0m, in \u001b[0;36mSystem.__init__\u001b[0;34m(self, filename, format, compressed, customkeys, species, style, atoms, box)\u001b[0m\n\u001b[1;32m    171\u001b[0m \u001b[38;5;28mself\u001b[39m\u001b[38;5;241m.\u001b[39m_atoms \u001b[38;5;241m=\u001b[39m Atoms()\n\u001b[1;32m    173\u001b[0m \u001b[38;5;28;01mif\u001b[39;00m filename \u001b[38;5;129;01mis\u001b[39;00m \u001b[38;5;129;01mnot\u001b[39;00m \u001b[38;5;28;01mNone\u001b[39;00m:\n\u001b[0;32m--> 174\u001b[0m     \u001b[43minputmethods\u001b[49m\u001b[38;5;241;43m.\u001b[39;49m\u001b[43mread_inputfile\u001b[49m\u001b[43m(\u001b[49m\u001b[38;5;28;43mself\u001b[39;49m\u001b[43m,\u001b[49m\u001b[43m \u001b[49m\u001b[43mfilename\u001b[49m\u001b[43m,\u001b[49m\u001b[43m \u001b[49m\n\u001b[1;32m    175\u001b[0m \u001b[43m        \u001b[49m\u001b[38;5;28;43mformat\u001b[39;49m\u001b[43m \u001b[49m\u001b[38;5;241;43m=\u001b[39;49m\u001b[43m \u001b[49m\u001b[38;5;28;43mformat\u001b[39;49m\u001b[43m,\u001b[49m\u001b[43m \u001b[49m\n\u001b[1;32m    176\u001b[0m \u001b[43m        \u001b[49m\u001b[43mcompressed\u001b[49m\u001b[43m \u001b[49m\u001b[38;5;241;43m=\u001b[39;49m\u001b[43m \u001b[49m\u001b[43mcompressed\u001b[49m\u001b[43m,\u001b[49m\u001b[43m \u001b[49m\n\u001b[1;32m    177\u001b[0m \u001b[43m        \u001b[49m\u001b[43mcustomkeys\u001b[49m\u001b[43m \u001b[49m\u001b[38;5;241;43m=\u001b[39;49m\u001b[43m \u001b[49m\u001b[43mcustomkeys\u001b[49m\u001b[43m,\u001b[49m\n\u001b[1;32m    178\u001b[0m \u001b[43m        \u001b[49m\u001b[43mspecies\u001b[49m\u001b[43m \u001b[49m\u001b[38;5;241;43m=\u001b[39;49m\u001b[43m \u001b[49m\u001b[43mspecies\u001b[49m\u001b[43m,\u001b[49m\n\u001b[1;32m    179\u001b[0m \u001b[43m        \u001b[49m\u001b[43mstyle\u001b[49m\u001b[43m \u001b[49m\u001b[38;5;241;43m=\u001b[39;49m\u001b[43m \u001b[49m\u001b[43mstyle\u001b[49m\u001b[43m)\u001b[49m\n\u001b[1;32m    180\u001b[0m \u001b[38;5;28;01melif\u001b[39;00m (atoms \u001b[38;5;129;01mis\u001b[39;00m \u001b[38;5;129;01mnot\u001b[39;00m \u001b[38;5;28;01mNone\u001b[39;00m) \u001b[38;5;129;01mand\u001b[39;00m (box \u001b[38;5;129;01mis\u001b[39;00m \u001b[38;5;129;01mnot\u001b[39;00m \u001b[38;5;28;01mNone\u001b[39;00m):\n\u001b[1;32m    181\u001b[0m     \u001b[38;5;28mself\u001b[39m\u001b[38;5;241m.\u001b[39mbox \u001b[38;5;241m=\u001b[39m box\n",
      "File \u001b[0;32m~/miniforge3/envs/workflow-rdf/lib/python3.11/site-packages/pyscal3/operations/input.py:70\u001b[0m, in \u001b[0;36mread_inputfile\u001b[0;34m(system, filename, format, compressed, customkeys, species, style)\u001b[0m\n\u001b[1;32m     67\u001b[0m system\u001b[38;5;241m.\u001b[39mboxdims \u001b[38;5;241m=\u001b[39m [\u001b[38;5;241m0\u001b[39m,\u001b[38;5;241m0\u001b[39m,\u001b[38;5;241m0\u001b[39m]\n\u001b[1;32m     68\u001b[0m system\u001b[38;5;241m.\u001b[39mtriclinic \u001b[38;5;241m=\u001b[39m \u001b[38;5;241m0\u001b[39m\n\u001b[0;32m---> 70\u001b[0m atoms, box \u001b[38;5;241m=\u001b[39m \u001b[43mptp\u001b[49m\u001b[38;5;241;43m.\u001b[39;49m\u001b[43mread_file\u001b[49m\u001b[43m(\u001b[49m\u001b[43mfilename\u001b[49m\u001b[43m,\u001b[49m\u001b[43m \u001b[49m\u001b[38;5;28;43mformat\u001b[39;49m\u001b[38;5;241;43m=\u001b[39;49m\u001b[38;5;28;43mformat\u001b[39;49m\u001b[43m,\u001b[49m\u001b[43m \u001b[49m\n\u001b[1;32m     71\u001b[0m \u001b[43m                            \u001b[49m\u001b[43mcompressed\u001b[49m\u001b[38;5;241;43m=\u001b[39;49m\u001b[43mcompressed\u001b[49m\u001b[43m,\u001b[49m\u001b[43m \u001b[49m\n\u001b[1;32m     72\u001b[0m \u001b[43m                            \u001b[49m\u001b[43mcustomkeys\u001b[49m\u001b[38;5;241;43m=\u001b[39;49m\u001b[43mcustomkeys\u001b[49m\u001b[43m,\u001b[49m\n\u001b[1;32m     73\u001b[0m \u001b[43m                            \u001b[49m\u001b[43mspecies\u001b[49m\u001b[38;5;241;43m=\u001b[39;49m\u001b[43mspecies\u001b[49m\u001b[43m,\u001b[49m\n\u001b[1;32m     74\u001b[0m \u001b[43m                            \u001b[49m\u001b[43mstyle\u001b[49m\u001b[38;5;241;43m=\u001b[39;49m\u001b[43mstyle\u001b[49m\u001b[43m)\u001b[49m\n\u001b[1;32m     75\u001b[0m system\u001b[38;5;241m.\u001b[39mbox \u001b[38;5;241m=\u001b[39m box\n\u001b[1;32m     76\u001b[0m system\u001b[38;5;241m.\u001b[39matoms \u001b[38;5;241m=\u001b[39m atoms\n",
      "File \u001b[0;32m~/miniforge3/envs/workflow-rdf/lib/python3.11/site-packages/pyscal3/traj_process.py:60\u001b[0m, in \u001b[0;36mread_file\u001b[0;34m(filename, format, compressed, customkeys, species, style)\u001b[0m\n\u001b[1;32m     57\u001b[0m customread \u001b[38;5;241m=\u001b[39m (\u001b[38;5;28mlen\u001b[39m(customkeys) \u001b[38;5;241m>\u001b[39m \u001b[38;5;241m0\u001b[39m)\n\u001b[1;32m     59\u001b[0m \u001b[38;5;28;01mif\u001b[39;00m \u001b[38;5;28mformat\u001b[39m\u001b[38;5;241m==\u001b[39m\u001b[38;5;124m'\u001b[39m\u001b[38;5;124mlammps-dump\u001b[39m\u001b[38;5;124m'\u001b[39m:\n\u001b[0;32m---> 60\u001b[0m     atoms, box \u001b[38;5;241m=\u001b[39m \u001b[43mptlammps\u001b[49m\u001b[38;5;241;43m.\u001b[39;49m\u001b[43mread_snap\u001b[49m\u001b[43m(\u001b[49m\u001b[43mfilename\u001b[49m\u001b[43m,\u001b[49m\u001b[43m \u001b[49m\u001b[43mcompressed\u001b[49m\u001b[38;5;241;43m=\u001b[39;49m\u001b[43mcompressed\u001b[49m\u001b[43m,\u001b[49m\u001b[43m \u001b[49m\u001b[43mcustomkeys\u001b[49m\u001b[38;5;241;43m=\u001b[39;49m\u001b[43mcustomkeys\u001b[49m\u001b[43m,\u001b[49m\u001b[43m \u001b[49m\u001b[43mspecies\u001b[49m\u001b[38;5;241;43m=\u001b[39;49m\u001b[43mspecies\u001b[49m\u001b[43m)\u001b[49m\n\u001b[1;32m     61\u001b[0m \u001b[38;5;28;01melif\u001b[39;00m \u001b[38;5;28mformat\u001b[39m \u001b[38;5;241m==\u001b[39m \u001b[38;5;124m'\u001b[39m\u001b[38;5;124mase\u001b[39m\u001b[38;5;124m'\u001b[39m:\n\u001b[1;32m     62\u001b[0m     atoms, box \u001b[38;5;241m=\u001b[39m ptase\u001b[38;5;241m.\u001b[39mread_snap(filename)\n",
      "File \u001b[0;32m~/miniforge3/envs/workflow-rdf/lib/python3.11/site-packages/pyscal3/formats/lammps.py:211\u001b[0m, in \u001b[0;36mread_snap\u001b[0;34m(infile, compressed, customkeys, species)\u001b[0m\n\u001b[1;32m    209\u001b[0m     box \u001b[38;5;241m=\u001b[39m np\u001b[38;5;241m.\u001b[39marray([a, b, c])\n\u001b[1;32m    210\u001b[0m \u001b[38;5;28;01melse\u001b[39;00m:\n\u001b[0;32m--> 211\u001b[0m     box \u001b[38;5;241m=\u001b[39m np\u001b[38;5;241m.\u001b[39marray([[\u001b[43mboxx\u001b[49m[\u001b[38;5;241m1\u001b[39m]\u001b[38;5;241m-\u001b[39mboxx[\u001b[38;5;241m0\u001b[39m], \u001b[38;5;241m0\u001b[39m, \u001b[38;5;241m0\u001b[39m],[\u001b[38;5;241m0\u001b[39m, boxy[\u001b[38;5;241m1\u001b[39m]\u001b[38;5;241m-\u001b[39mboxy[\u001b[38;5;241m0\u001b[39m], \u001b[38;5;241m0\u001b[39m],[\u001b[38;5;241m0\u001b[39m, \u001b[38;5;241m0\u001b[39m, boxz[\u001b[38;5;241m1\u001b[39m]\u001b[38;5;241m-\u001b[39mboxz[\u001b[38;5;241m0\u001b[39m]]])\n\u001b[1;32m    213\u001b[0m \u001b[38;5;66;03m#adjust for scled coordinates\u001b[39;00m\n\u001b[1;32m    214\u001b[0m \u001b[38;5;28;01mif\u001b[39;00m scaled:\n",
      "\u001b[0;31mUnboundLocalError\u001b[0m: cannot access local variable 'boxx' where it is not associated with a value"
     ]
    }
   ],
   "source": [
    "wf.run()"
   ]
  },
  {
   "cell_type": "code",
   "execution_count": null,
   "id": "2380e54f",
   "metadata": {},
   "outputs": [],
   "source": []
  }
 ],
 "metadata": {
  "kernelspec": {
   "display_name": "pyiron/latest (python3.11)",
   "language": "python",
   "name": "python3"
  },
  "language_info": {
   "codemirror_mode": {
    "name": "ipython",
    "version": 3
   },
   "file_extension": ".py",
   "mimetype": "text/x-python",
   "name": "python",
   "nbconvert_exporter": "python",
   "pygments_lexer": "ipython3",
   "version": "3.11.9"
  }
 },
 "nbformat": 4,
 "nbformat_minor": 5
}
