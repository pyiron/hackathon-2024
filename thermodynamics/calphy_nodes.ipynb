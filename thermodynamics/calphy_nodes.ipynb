{
 "cells": [
  {
   "cell_type": "code",
   "execution_count": 6,
   "id": "c39fa7d8-e5f1-4415-89b5-7aea65cc10f9",
   "metadata": {},
   "outputs": [],
   "source": [
    "from pyiron_workflow import Workflow\n",
    "from structure_nodes import get_structure\n",
    "from thermo_potential import obtain_potential\n",
    "import numpy as np"
   ]
  },
  {
   "cell_type": "code",
   "execution_count": 11,
   "id": "3fb35b9d-036d-4d63-9551-f8afbde0ebc6",
   "metadata": {},
   "outputs": [],
   "source": []
  },
  {
   "cell_type": "code",
   "execution_count": 12,
   "id": "f0da7598-8b5e-450a-82e7-1b3674d49748",
   "metadata": {
    "collapsed": true,
    "jupyter": {
     "outputs_hidden": true
    },
    "scrolled": true
   },
   "outputs": [
    {
     "data": {
      "text/plain": [
       "{'step1__config': ['pair_style eam/alloy\\n',\n",
       "  'pair_coeff * * CuAgAu_Zhou04.eam.alloy Cu Ag Au\\n'],\n",
       " 'step1__files': ['potential_LAMMPS/2004--Zhou-X-W--Cu-Ag-Au--LAMMPS--ipr2/CuAgAu_Zhou04.eam.alloy'],\n",
       " 'step1__elements': ['Cu', 'Ag', 'Au'],\n",
       " 'step1__element_list':     Parameter                                 Value Comment\n",
       " 0  pair_style                             eam/alloy        \n",
       " 1  pair_coeff  * * CuAgAu_Zhou04.eam.alloy Cu Ag Au        ,\n",
       " 'step2__structure': Cu: [0. 0. 0.]\n",
       " Cu: [0.     1.7985 1.7985]\n",
       " Cu: [1.7985 0.     1.7985]\n",
       " Cu: [1.7985 1.7985 0.    ]\n",
       " Cu: [0.    0.    3.597]\n",
       " Cu: [0.     1.7985 5.3955]\n",
       " Cu: [1.7985 0.     5.3955]\n",
       " Cu: [1.7985 1.7985 3.597 ]\n",
       " Cu: [0.    3.597 0.   ]\n",
       " Cu: [0.     5.3955 1.7985]\n",
       " Cu: [1.7985 3.597  1.7985]\n",
       " Cu: [1.7985 5.3955 0.    ]\n",
       " Cu: [0.    3.597 3.597]\n",
       " Cu: [0.     5.3955 5.3955]\n",
       " Cu: [1.7985 3.597  5.3955]\n",
       " Cu: [1.7985 5.3955 3.597 ]\n",
       " Cu: [3.597 0.    0.   ]\n",
       " Cu: [3.597  1.7985 1.7985]\n",
       " Cu: [5.3955 0.     1.7985]\n",
       " Cu: [5.3955 1.7985 0.    ]\n",
       " Cu: [3.597 0.    3.597]\n",
       " Cu: [3.597  1.7985 5.3955]\n",
       " Cu: [5.3955 0.     5.3955]\n",
       " Cu: [5.3955 1.7985 3.597 ]\n",
       " Cu: [3.597 3.597 0.   ]\n",
       " Cu: [3.597  5.3955 1.7985]\n",
       " Cu: [5.3955 3.597  1.7985]\n",
       " Cu: [5.3955 5.3955 0.    ]\n",
       " Cu: [3.597 3.597 3.597]\n",
       " Cu: [3.597  5.3955 5.3955]\n",
       " Cu: [5.3955 3.597  5.3955]\n",
       " Cu: [5.3955 5.3955 3.597 ]\n",
       " tags: \n",
       "     indices: [0 0 0 0 0 0 0 0 0 0 0 0 0 0 0 0 0 0 0 0 0 0 0 0 0 0 0 0 0 0 0 0]\n",
       " pbc: [ True  True  True]\n",
       " cell: \n",
       " Cell([7.194, 7.194, 7.194])}"
      ]
     },
     "execution_count": 12,
     "metadata": {},
     "output_type": "execute_result"
    }
   ],
   "source": [
    "wf.run()"
   ]
  },
  {
   "cell_type": "code",
   "execution_count": 20,
   "id": "68a569fa-2ee3-40e0-bc42-77246f47f1b1",
   "metadata": {},
   "outputs": [
    {
     "data": {
      "application/json": {
       "step1__config": {
        "connections": "[]",
        "default": "\"NOT_DATA\"",
        "owner": "\"/test/step1\"",
        "strict_hints": "true",
        "type_hint": "null",
        "value": "[\"pair_style eam/alloy\\n\", \"pair_coeff * * CuAgAu_Zhou04.eam.alloy Cu Ag Au\\n\"]"
       },
       "step1__element_list": {
        "connections": "[]",
        "default": "\"NOT_DATA\"",
        "owner": "\"/test/step1\"",
        "strict_hints": "true",
        "type_hint": "null",
        "value": "\"    Parameter                                 Value Comment\\n0  pair_style                             eam/alloy        \\n1  pair_coeff  * * CuAgAu_Zhou04.eam.alloy Cu Ag Au        \""
       },
       "step1__elements": {
        "connections": "[]",
        "default": "\"NOT_DATA\"",
        "owner": "\"/test/step1\"",
        "strict_hints": "true",
        "type_hint": "null",
        "value": "[\"Cu\", \"Ag\", \"Au\"]"
       },
       "step1__files": {
        "connections": "[]",
        "default": "\"NOT_DATA\"",
        "owner": "\"/test/step1\"",
        "strict_hints": "true",
        "type_hint": "null",
        "value": "[\"potential_LAMMPS/2004--Zhou-X-W--Cu-Ag-Au--LAMMPS--ipr2/CuAgAu_Zhou04.eam.alloy\"]"
       },
       "step2__structure": {
        "connections": "[]",
        "default": "\"NOT_DATA\"",
        "owner": "\"/test/step2\"",
        "strict_hints": "true",
        "type_hint": "null",
        "value": "\"Cu32\""
       }
      },
      "text/plain": [
       "<pyiron_workflow.io.Outputs at 0x150437f0d4d0>"
      ]
     },
     "execution_count": 20,
     "metadata": {},
     "output_type": "execute_result"
    }
   ],
   "source": [
    "wf.outputs"
   ]
  },
  {
   "cell_type": "code",
   "execution_count": null,
   "id": "50b5115f-add2-4a54-9cb4-b7ad2dedf85a",
   "metadata": {},
   "outputs": [],
   "source": [
    "wf.outputs.step1__"
   ]
  },
  {
   "cell_type": "code",
   "execution_count": 16,
   "id": "cb973418-998b-42d8-b164-9507cc33c5f4",
   "metadata": {},
   "outputs": [
    {
     "data": {
      "application/vnd.jupyter.widget-view+json": {
       "model_id": "1b8223253f904682b66f1510e4802056",
       "version_major": 2,
       "version_minor": 0
      },
      "text/plain": [
       "NGLWidget()"
      ]
     },
     "metadata": {},
     "output_type": "display_data"
    }
   ],
   "source": [
    "wf.outputs.step2__structure.value.plot3d()"
   ]
  },
  {
   "cell_type": "markdown",
   "id": "b353e922-6172-4bcc-8d33-ac36896086fb",
   "metadata": {},
   "source": [
    "### Create input template"
   ]
  },
  {
   "cell_type": "code",
   "execution_count": 17,
   "id": "63aea270-51b4-4193-b95a-7b1001c9d0e5",
   "metadata": {},
   "outputs": [],
   "source": [
    "def CreateInputDict():\n",
    "    return {\n",
    "        \"mode\": None,\n",
    "        \"pressure\": 0,\n",
    "        \"temperature\": 0,\n",
    "        \"reference_phase\": None,\n",
    "        \"npt\": True,\n",
    "        \"n_equilibration_steps\": 15000,\n",
    "        \"n_switching_steps\": 25000,\n",
    "        \"n_print_steps\": 1000,\n",
    "        \"n_iterations\": 1,\n",
    "        \"spring_constants\": None,\n",
    "        \"equilibration_control\": \"nose-hoover\",\n",
    "        \"melting_cycle\": True,\n",
    "        \"md\": {\n",
    "            \"timestep\": 0.001,\n",
    "            \"n_small_steps\": 10000,\n",
    "            \"n_every_steps\": 10,\n",
    "            \"n_repeat_steps\": 10,\n",
    "            \"n_cycles\": 100,\n",
    "            \"thermostat_damping\": 0.5,\n",
    "            \"barostat_damping\": 0.1,\n",
    "        },\n",
    "        \"tolerance\": {\n",
    "            \"lattice_constant\": 0.0002,\n",
    "            \"spring_constant\": 0.01,\n",
    "            \"solid_fraction\": 0.7,\n",
    "            \"liquid_fraction\": 0.05,\n",
    "            \"pressure\": 0.5,\n",
    "        },\n",
    "        \"nose_hoover\": {\n",
    "            \"thermostat_damping\": 0.1,\n",
    "            \"barostat_damping\": 0.1,\n",
    "        },\n",
    "        \"berendsen\": {\n",
    "            \"thermostat_damping\": 100.0,\n",
    "            \"barostat_damping\": 100.0,\n",
    "        },\n",
    "    }"
   ]
  },
  {
   "cell_type": "code",
   "execution_count": 18,
   "id": "9d5c9c55-f283-4638-826a-66086f89ccf6",
   "metadata": {},
   "outputs": [],
   "source": [
    "inp = CreateInputDict()"
   ]
  },
  {
   "cell_type": "code",
   "execution_count": 19,
   "id": "cee1c1fb-b99c-4adc-837c-68b7082a67ac",
   "metadata": {},
   "outputs": [],
   "source": [
    "inp['temperature'] = 1000\n",
    "inp['pressure'] = 0\n",
    "inp['reference_phase'] = 'solid'\n",
    "inp['mode'] = 'fe'"
   ]
  },
  {
   "cell_type": "code",
   "execution_count": 26,
   "id": "db7cf564-15e1-4a2a-8600-379564bd6575",
   "metadata": {},
   "outputs": [
    {
     "name": "stderr",
     "output_type": "stream",
     "text": [
      "/cmmc/ptmp/pyironhb/mambaforge/envs/pyiron_mpie_cmti_2024-09-02/lib/python3.11/site-packages/ase/io/lammpsdata.py:49: FutureWarning: \"style\" is deprecated; please use \"atom_style\".\n",
      "  warnings.warn(\n"
     ]
    },
    {
     "data": {
      "text/plain": [
       "{'step1__elements': ['Cu', 'Ag', 'Au'],\n",
       " 'step3__calculation': Calculation(monte_carlo=MonteCarlo(n_steps=1, n_swaps=0, reverse_swap=True), composition_scaling=CompositionScaling(output_chemical_composition={}, restrictions=[]), md=MD(timestep=0.001, n_small_steps=10000, n_every_steps=10, n_repeat_steps=10, n_cycles=100, thermostat_damping=0.5, barostat_damping=0.1, cmdargs='', init_commands=[]), nose_hoover=NoseHoover(thermostat_damping=0.1, barostat_damping=0.1), berendsen=Berendsen(thermostat_damping=100.0, barostat_damping=100.0), queue=Queue(scheduler='local', cores=1, jobname='calphy', walltime='23:59:00', queuename='', memory='3GB', commands=[], options=[], modules=[]), tolerance=Tolerance(lattice_constant=0.0002, spring_constant=0.01, solid_fraction=0.7, liquid_fraction=0.05, pressure=0.5), melting_temperature=MeltingTemperature(guess=None, step=200, attempts=5), element=['Cu', 'Ag', 'Au'], n_elements=3, mass=[63.546, 1.0, 1.0], kernel=0, inputfile='', mode='fe', lattice='/cmmc/u/smenon/hackathon-2024/thermodynamics/temp.struct.dat', file_format='lammps-data', pressure=0.0, temperature=1000.0, temperature_high=0.0, melting_cycle=True, pair_style=['pair_style eam/alloy\\n'], pair_coeff=['pair_coeff * * CuAgAu_Zhou04.eam.alloy Cu Ag Au\\n'], potential_file=None, fix_potential_path=True, reference_phase='solid', lattice_constant=0, repeat=[1, 1, 1], script_mode=False, lammps_executable=None, mpi_executable=None, npt=True, n_equilibration_steps=15000, n_switching_steps=25000, n_print_steps=1000, n_iterations=1, equilibration_control='nose-hoover', folder_prefix=None, spring_constants=None)}"
      ]
     },
     "execution_count": 26,
     "metadata": {},
     "output_type": "execute_result"
    }
   ],
   "source": [
    "wf.run()"
   ]
  },
  {
   "cell_type": "markdown",
   "id": "0a432622-9366-474b-beab-a194cbf0723d",
   "metadata": {},
   "source": [
    "### Initialise job"
   ]
  },
  {
   "cell_type": "code",
   "execution_count": 43,
   "id": "b6b0af1e-5c4a-4b19-a7a7-9cfbdde12b14",
   "metadata": {},
   "outputs": [],
   "source": [
    "@Workflow.wrap.as_function_node()\n",
    "def Initialize(inputdict, structure, potential_obj, files, potential_config):\n",
    "    from pyiron_atomistics.lammps.structure import (\n",
    "        LammpsStructure,\n",
    "        UnfoldingPrism,\n",
    "        structure_to_lammps,\n",
    "    ) \n",
    "    import os\n",
    "    from calphy.input import Calculation\n",
    "    import shutil\n",
    "    \n",
    "    #filename of structure\n",
    "    file_name = os.path.join(os.getcwd(), 'temp.struct.dat')\n",
    "    lmp_structure = LammpsStructure()\n",
    "    lmp_structure.potential = potential_obj\n",
    "    lmp_structure.atom_type = \"atomic\"\n",
    "    lmp_structure.el_eam_lst = potential_obj.get_element_lst()\n",
    "    lmp_structure.structure = structure_to_lammps(structure)\n",
    "    if not set(lmp_structure.structure.get_species_symbols()).issubset(\n",
    "        set(lmp_structure.el_eam_lst)\n",
    "    ):\n",
    "        raise ValueError(\n",
    "            \"The selected potentials do not support the given combination of elements.\"\n",
    "        )\n",
    "    lmp_structure.write_file(file_name=file_name)\n",
    "\n",
    "    #now populate the input dict\n",
    "    inputdict['lattice'] = file_name\n",
    "    inputdict['pair_style'] = potential_config[0]\n",
    "    inputdict['pair_coeff'] = potential_config[1]\n",
    "    inputdict['element'] = potential_obj.get_element_lst()\n",
    "\n",
    "    elements_from_pot = inputdict['element']\n",
    "    elements_object_lst = structure.get_species_objects()\n",
    "    elements_struct_lst = structure.get_species_symbols()\n",
    "\n",
    "    masses = []\n",
    "    for element_name in elements_from_pot:\n",
    "        if element_name in elements_struct_lst:\n",
    "            index = list(elements_struct_lst).index(element_name)\n",
    "            masses.append(elements_object_lst[index].AtomicMass)\n",
    "        else:\n",
    "            masses.append(1.0)\n",
    " \n",
    "    inputdict['mass'] = masses\n",
    "    \n",
    "    #working directory\n",
    "    calculation = Calculation(**inputdict)\n",
    "    simfolder = calculation.create_folders()\n",
    "    potential_obj.copy_pot_files(simfolder)\n",
    "    #for file in files:\n",
    "    #    shutil.copy(file, simfolder)\n",
    "        \n",
    "    return calculation, simfolder"
   ]
  },
  {
   "cell_type": "code",
   "execution_count": 52,
   "id": "e17ae089-0127-464b-950f-6278a69c7a62",
   "metadata": {},
   "outputs": [],
   "source": [
    "@Workflow.wrap.as_function_node()\n",
    "def RunCalculation(calculation, simfolder):\n",
    "    from calphy import Liquid, Solid\n",
    "    from calphy.routines import routine_alchemy, routine_fe, routine_pscale, routine_ts\n",
    "    #simfolder = calc.create_folders()\n",
    "    if calculation.reference_phase == \"solid\":\n",
    "        job = Solid(calculation=calculation, simfolder=simfolder)\n",
    "    elif calculation.reference_phase == \"liquid\":\n",
    "        job = Liquid(calculation=calculation, simfolder=simfolder)\n",
    "    else:\n",
    "        raise ValueError(\"Unknown reference state\")\n",
    "\n",
    "    if calculation.mode == \"fe\":\n",
    "        routine_fe(job)\n",
    "    elif calculation.mode == \"ts\":\n",
    "        routine_ts(job)\n",
    "    elif calculation.mode == \"pscale\":\n",
    "        routine_pscale(job)\n",
    "    else:\n",
    "        raise ValueError(\"Unknown mode\")\n",
    "    return job.report"
   ]
  },
  {
   "cell_type": "code",
   "execution_count": 53,
   "id": "714151b9-21f2-4018-a6e7-533ac5c517a0",
   "metadata": {},
   "outputs": [],
   "source": [
    "wf = Workflow('test')\n",
    "wf.step1 = obtain_potential('2004--Zhou-X-W--Cu-Ag-Au--LAMMPS--ipr2')\n",
    "wf.step2 = get_structure(a0=3.597, species='Cu', \n",
    "                         cubic=True, repeat=np.array([2,2,2]),\n",
    "                        lattice_type='fcc',\n",
    "                        a2=None)\n",
    "wf.step3 = Initialize(inp, wf.step2.outputs.structure,\n",
    "                     wf.step1.outputs.element_list,\n",
    "                     wf.step1.outputs.files,\n",
    "                     wf.step1.outputs.config)\n",
    "wf.step4 = RunCalculation(wf.step3.outputs.calculation,\n",
    "                         wf.step3.outputs.simfolder)"
   ]
  },
  {
   "cell_type": "code",
   "execution_count": null,
   "id": "b316cb56-aac8-46cb-9e3c-f78e09069717",
   "metadata": {},
   "outputs": [
    {
     "name": "stderr",
     "output_type": "stream",
     "text": [
      "/cmmc/ptmp/pyironhb/mambaforge/envs/pyiron_mpie_cmti_2024-09-02/lib/python3.11/site-packages/ase/io/lammpsdata.py:49: FutureWarning: \"style\" is deprecated; please use \"atom_style\".\n",
      "  warnings.warn(\n",
      "--------------------------------------------------------------------------\n",
      "WARNING: There was an error initializing an OpenFabrics device.\n",
      "\n",
      "  Local host:   cmti001\n",
      "  Local device: hfi1_0\n",
      "--------------------------------------------------------------------------\n",
      "Traceback (most recent call last):\n",
      "  File \"/cmmc/ptmp/pyironhb/mambaforge/envs/pyiron_mpie_cmti_2024-09-02/lib/python3.11/site-packages/pylammpsmpi/wrapper/../mpi/lmpmpi.py\", line 503, in <module>\n",
      "    _run_lammps_mpi(argument_lst=sys.argv)\n",
      "  File \"/cmmc/ptmp/pyironhb/mambaforge/envs/pyiron_mpie_cmti_2024-09-02/lib/python3.11/site-packages/pylammpsmpi/wrapper/../mpi/lmpmpi.py\", line 495, in _run_lammps_mpi\n",
      "    output = select_cmd(input_dict[\"command\"])(\n",
      "             ^^^^^^^^^^^^^^^^^^^^^^^^^^^^^^^^^^\n",
      "  File \"/cmmc/ptmp/pyironhb/mambaforge/envs/pyiron_mpie_cmti_2024-09-02/lib/python3.11/site-packages/pylammpsmpi/wrapper/../mpi/lmpmpi.py\", line 105, in commands_string\n",
      "    job.commands_string(*funct_args)\n",
      "TypeError: lammps.commands_string() takes 2 positional arguments but 33 were given\n"
     ]
    }
   ],
   "source": [
    "wf.run()"
   ]
  },
  {
   "cell_type": "code",
   "execution_count": null,
   "id": "65e87632-504c-40d8-824b-b6f0498e1a96",
   "metadata": {},
   "outputs": [],
   "source": [
    "calculations:\n",
    "- temperature: 1000\n",
    "  element:\n",
    "  - Au\n",
    "  - Cu\n",
    "  mass: \n",
    "  - 196.966\n",
    "  - 63.546\n",
    "  composition_scaling:\n",
    "    output_chemical_composition:\n",
    "      Au: 1024\n",
    "      Cu: 1024\n",
    "  lattice: 'lammps.inp.data'\n",
    "  pair_style: eam/alloy\n",
    "  pair_coeff: \"* * /u/smenon/calphy_configurational_entropy/potential/CuAu.Zhou.eam.alloy Au Cu\"\n",
    "  reference_phase: solid\n",
    "  md:\n",
    "    timestep: 0.001\n",
    "  mode: composition_scaling\n",
    "  n_equilibration_steps: 25000\n",
    "  n_iterations: 1\n",
    "  n_switching_steps: 50000\n",
    "  pressure: [[0,0,0]]\n",
    "  queue:\n",
    "    cores: 40\n",
    "    queuename: p.cmfe\n",
    "    scheduler: slurm\n"
   ]
  }
 ],
 "metadata": {
  "kernelspec": {
   "display_name": "pyiron/latest (python3.11)",
   "language": "python",
   "name": "python3"
  },
  "language_info": {
   "codemirror_mode": {
    "name": "ipython",
    "version": 3
   },
   "file_extension": ".py",
   "mimetype": "text/x-python",
   "name": "python",
   "nbconvert_exporter": "python",
   "pygments_lexer": "ipython3",
   "version": "3.11.6"
  }
 },
 "nbformat": 4,
 "nbformat_minor": 5
}
